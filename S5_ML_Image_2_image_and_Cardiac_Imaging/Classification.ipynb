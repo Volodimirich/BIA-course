{
 "cells": [
  {
   "cell_type": "code",
   "execution_count": 1,
   "metadata": {},
   "outputs": [
    {
     "name": "stdout",
     "output_type": "stream",
     "text": [
      "Populating the interactive namespace from numpy and matplotlib\n"
     ]
    }
   ],
   "source": [
    "import pandas as pd\n",
    "import numpy as np\n",
    "import seaborn as sns\n",
    "import matplotlib.pyplot as plt\n",
    "%matplotlib inline\n",
    "from sklearn.model_selection import train_test_split, cross_val_score, cross_val_predict\n",
    "from sklearn.svm import SVC\n",
    "import xgboost\n",
    "from sklearn.model_selection import GridSearchCV\n",
    "from sklearn.metrics import accuracy_score, confusion_matrix, f1_score, roc_auc_score,classification_report,cohen_kappa_score\n",
    "from sklearn.metrics import roc_curve,auc,precision_score,recall_score\n",
    "from sklearn.preprocessing import StandardScaler\n",
    "from sklearn.ensemble import RandomForestClassifier\n",
    "from sklearn.neighbors import KNeighborsClassifier\n",
    "from statsmodels.stats.weightstats import _zconfint_generic, _tconfint_generic\n",
    "from tqdm import tqdm_notebook\n",
    "from IPython import display\n",
    "import os\n",
    "import glob\n",
    "import warnings\n",
    "warnings.filterwarnings(\"ignore\")\n",
    "%pylab inline"
   ]
  },
  {
   "cell_type": "code",
   "execution_count": 9,
   "metadata": {},
   "outputs": [],
   "source": [
    "def moving_windows(X_test, X_train, y_test, y_train):\n",
    "# function for move all windows from one recording to either training or testing set\n",
    "    for k in range(np.max(X_test['flag'])):\n",
    "        #print(k)\n",
    "        samples_test = np.shape(X_test.loc[X_test['flag'].isin([k])])[0]\n",
    "        samples_train = np.shape(X_train.loc[X_train['flag'].isin([k])])[0]\n",
    "        if samples_test !=0 and samples_train != 0:\n",
    "            size_nondrivers_train = np.shape(y_train.loc[y_train['target'].isin([0])])[0]\n",
    "            size_drivers_train = np.shape(y_train.loc[y_train['target'].isin([1])])[0]\n",
    "            size_nondrivers_test = np.shape(y_test.loc[y_test['target'].isin([0])])[0]\n",
    "            size_drivers_test = np.shape(y_test.loc[y_test['target'].isin([1])])[0]\n",
    "            percentage_drivers_test = size_drivers_test/ (size_drivers_test+size_nondrivers_test)\n",
    "            percentage_drivers_train = size_drivers_train/ (size_drivers_train+size_nondrivers_train)\n",
    "            target = int(y_test.loc[X_test.loc[X_test['flag'].isin([k])].index.values.astype(int)[0]])\n",
    "            if ((target ==0) and (percentage_drivers_train > percentage_drivers_test)) or ((target ==1) and (percentage_drivers_train < percentage_drivers_test)):\n",
    "                indexes_to_change = X_test.loc[X_test['flag'].isin([k])].index.values.astype(int)\n",
    "                X_train = X_train.append(X_test.loc[X_test['flag'].isin([k])])\n",
    "                y_train = y_train.append(y_test.loc[indexes_to_change])\n",
    "                X_test.drop(indexes_to_change,0,inplace=True)\n",
    "                y_test.drop(indexes_to_change,0,inplace=True)\n",
    "            if (target ==0 and percentage_drivers_train < percentage_drivers_test) or (target ==1 and percentage_drivers_train > percentage_drivers_test):\n",
    "                indexes_to_change = X_train.loc[X_train['flag'].isin([k])].index.values.astype(int)\n",
    "                X_test = X_test.append(X_train.loc[X_train['flag'].isin([k])])\n",
    "                y_test = y_test.append(y_train.loc[indexes_to_change])\n",
    "                X_train.drop(indexes_to_change,0,inplace=True)\n",
    "                y_train.drop(indexes_to_change,0,inplace=True)\n",
    "    return X_test, X_train, y_test, y_train\n",
    "\n",
    "def X_y_creation(data_with_noise,key):\n",
    "    data = data_with_noise.loc[~data_with_noise['target'].isin([-1])]\n",
    "    if key == 'core':\n",
    "        data['target'] = data['target'].map({1: 1, 0: 0,0.5:0})\n",
    "    if key == 'tail':\n",
    "        data['target'] = data['target'].map({1: 1, 0: 0,0.5:1})\n",
    "    X_target = data.drop(data.columns[:71], 1)\n",
    "    X_old = data.drop(data.columns[35:], 1)\n",
    "    X_new = pd.concat([X_old,X_target],axis=1) # single-electrode\n",
    "    X_neighbour = data.drop(data.columns[:35], 1)\n",
    "    X_neighbour = X_neighbour.drop('target', 1)\n",
    "    #X_new = data.drop('target', 1)\n",
    "    y = data.drop(data.columns[:70], 1)\n",
    "    y = y.drop(y.columns[1:],1)\n",
    "    (X_train_new, X_test_new, y_train_new, y_test_new) = train_test_split(X_new, y, test_size=0.3, stratify=y)\n",
    "    X_test_new, X_train_new, y_test_new, y_train_new = moving_windows(X_test_new, X_train_new, y_test_new, y_train_new)\n",
    "    X_test_new = X_test_new.drop('flag',1)\n",
    "    X_train_new = X_train_new.drop('flag',1)\n",
    "    encoder = StandardScaler()\n",
    "    X_train_scaled_new = encoder.fit_transform(X_train_new)\n",
    "    X_test_scaled_new = encoder.fit_transform(X_test_new)\n",
    "    (X_train_neighbour, X_test_neighbour, y_train_neighbour, y_test_neighbour) = train_test_split(X_neighbour, y, test_size=0.3, stratify=y)\n",
    "    X_test_neighbour, X_train_neighbour, y_test_neighbour, y_train_neighbour = moving_windows(X_test_neighbour, X_train_neighbour, y_test_neighbour, y_train_neighbour)\n",
    "    X_test_neighbour_flag = X_test_neighbour\n",
    "    X_test_neighbour = X_test_neighbour.drop('flag',1)\n",
    "    X_train_neighbour = X_train_neighbour.drop('flag',1)\n",
    "    encoder = StandardScaler()\n",
    "    X_train_scaled_neighbour = encoder.fit_transform(X_train_neighbour)\n",
    "    X_test_scaled_neighbour = encoder.fit_transform(X_test_neighbour)\n",
    "    print(\"Data shape is\",data.shape)\n",
    "    return X_test_neighbour_flag, X_neighbour, X_new, y, X_train_new, X_test_new, y_train_new, y_test_new,X_train_neighbour, X_test_neighbour, y_train_neighbour, y_test_neighbour, X_train_scaled_new, X_test_scaled_new, X_train_scaled_neighbour, X_test_scaled_neighbour,y\n",
    "\n",
    "\n",
    "def results(model, param_grid, cv, X_train,y_train, X_test, y_test):\n",
    "    optimizer = GridSearchCV(model, param_grid, cv=cv, n_jobs=-1,scoring='f1')\n",
    "    optimizer.fit(X_train, y_train)\n",
    "\n",
    "    y_proba = optimizer.best_estimator_.predict_proba(X_train) ###\n",
    "    y_test1=y_train\n",
    "    fpr, tpr, threshold = roc_curve(y_test1, y_proba[:,1])\n",
    "    roc_auc1 = auc(fpr, tpr)\n",
    "    roc_auc2 = roc_auc_score(y_test1, y_proba[:,1]) #change auc to roc_auc_score\n",
    "    #roc_auc3 = roc_auc_score(y_test1, optimizer.best_estimator_.predict(X_train))\n",
    "    plt.title('Receiver Operating Characteristic for train')\n",
    "    plt.plot(fpr, tpr, 'b', label = 'AUC1 = %0.2f' % roc_auc1)\n",
    "    #plt.plot(fpr, tpr, 'b', label = 'AUC2 = %0.2f' % roc_auc3)\n",
    "    plt.legend(loc = 'lower right')\n",
    "    plt.plot([0, 1], [0, 1],'r--')\n",
    "    plt.xlim([0, 1])\n",
    "    plt.ylim([0, 1])\n",
    "    plt.ylabel('True Positive Rate')\n",
    "    plt.xlabel('False Positive Rate')\n",
    "    plt.show()\n",
    "    \n",
    "    y_proba = optimizer.best_estimator_.predict_proba(X_test) ###\n",
    "    fpr, tpr, threshold = roc_curve(y_test, y_proba[:,1])\n",
    "    roc_auc1 = auc(fpr, tpr)\n",
    "    roc_auc2 = roc_auc_score(y_test, optimizer.best_estimator_.predict_proba(X_test)[:,1]) #change auc to roc_auc_score\n",
    "    #roc_auc3 = roc_auc_score(y_test, optimizer.best_estimator_.predict(X_test))\n",
    "    plt.title('Receiver Operating Characteristic for test')\n",
    "    plt.plot(fpr, tpr, 'b', label = 'AUC1 = %0.2f' % roc_auc1)\n",
    "    #plt.plot(fpr, tpr, 'b', label = 'AUC2 = %0.2f' % roc_auc3)\n",
    "    plt.legend(loc = 'lower right')\n",
    "    plt.plot([0, 1], [0, 1],'r--')\n",
    "    plt.xlim([0, 1])\n",
    "    plt.ylim([0, 1])\n",
    "    plt.ylabel('True Positive Rate')\n",
    "    plt.xlabel('False Positive Rate')\n",
    "    plt.show()\n",
    "    #plt.savefig('roc-auc AF MEM kNN.pdf')\n",
    "    \n",
    "    print(\"Model characteristics - \",optimizer.best_estimator_) \n",
    "    return optimizer,fpr,tpr,threshold\n",
    "\n",
    "\n",
    "def results_full_test(optimizer, threshold, X_test_flag, y_test_flag):\n",
    "    model = optimizer.best_estimator_\n",
    "\n",
    "    (X0_50, X50_100, y0_50, y50_100) = train_test_split(X_test_flag, y_test_flag, test_size=0.5, stratify=y_test_neighbour)\n",
    "    \n",
    "    (X0_25, X25_50, y0_25, y25_50) = train_test_split(X0_50, y0_50, test_size=0.5, stratify=y0_50)\n",
    "    (X50_75, X75_100, y50_75, y75_100) = train_test_split(X50_100, y50_100, test_size=0.5, stratify=y50_100)\n",
    "    \n",
    "    (X0_12, X12_25, y0_12, y12_25) = train_test_split(X0_25, y0_25, test_size=0.5, stratify=y0_25)\n",
    "    (X25_37, X37_50, y25_37, y37_50) = train_test_split(X25_50, y25_50, test_size=0.5, stratify=y25_50)\n",
    "    (X50_62, X62_75, y50_62, y62_75) = train_test_split(X50_75, y50_75, test_size=0.5, stratify=y50_75)\n",
    "    (X75_87, X87_100, y75_87, y87_100) = train_test_split(X75_100, y75_100, test_size=0.5, stratify=y75_100)\n",
    "\n",
    "    f1_list=[]\n",
    "    acc_list=[]\n",
    "    rec_list=[]\n",
    "    prec_list =[]\n",
    "    X= [X0_12,X12_25,X25_37, X37_50, X50_62,X62_75,X75_87, X87_100]\n",
    "    y= [y0_12,y12_25,y25_37, y37_50, y50_62,y62_75,y75_87, y87_100]\n",
    "    for X_test,y_test in zip(X,y):\n",
    "        y_proba = model.predict_proba(X_test)\n",
    "        y_pred = (y_proba [:,1] >= threshold).astype('int')\n",
    "        acc= (accuracy_score(y_test, y_pred))\n",
    "        prec=precision_score(y_test, y_pred)\n",
    "        rec = recall_score(y_test, y_pred)\n",
    "        f1=f1_score(y_test, y_pred)\n",
    "        f1_list.append(f1)\n",
    "        acc_list.append(acc)\n",
    "        rec_list.append(rec)\n",
    "        prec_list.append(prec)\n",
    "\n",
    "    acc_mean = np.mean(acc_list)\n",
    "\n",
    "    print(\"Model accuracy: mean %.3f, std %.3f\" % (np.mean(acc_list), np.std(acc_list,ddof=1)))\n",
    "    mean_std_acc_score = np.std(acc_list,ddof=1)/np.sqrt(len(acc_list))\n",
    "    tconf_acc_score = _tconfint_generic(acc_mean, mean_std_acc_score, len(acc_list) - 1, 0.05, 'two-sided')\n",
    "    print(\"Model accuracy 95%% confidence interval:\", tconf_acc_score)\n",
    "\n",
    "    precision_mean = np.mean(prec_list)\n",
    "    print(\"Model precision: mean %.3f, std %.3f\" % (np.mean(prec_list), np.std(prec_list,ddof=1)))\n",
    "    mean_std_precision_score = np.std(prec_list,ddof=1)/np.sqrt(len(prec_list))\n",
    "    tconf_precision_score = _tconfint_generic(precision_mean, mean_std_precision_score, len(prec_list) - 1, 0.05, 'two-sided')\n",
    "    print(\"Model precision 95%% confidence interval:\", tconf_precision_score)\n",
    "\n",
    "    mean_recall_score = np.mean(rec_list)\n",
    "    print(\"Model recall: mean %.3f, std %.3f\" % (np.mean(rec_list), np.std(rec_list,ddof=1)))\n",
    "    mean_std_recall_score = np.std(rec_list,ddof=1)/np.sqrt(len(rec_list))\n",
    "    tconf_recall_score = _tconfint_generic(mean_recall_score, mean_std_recall_score, len(rec_list) - 1, 0.05, 'two-sided')\n",
    "    print(\"Model recall 95%% confidence interval:\", tconf_recall_score)\n",
    "\n",
    "    mean_f1score = np.mean(f1_list)\n",
    "    print(\"Model f1-score: mean %.3f, std %.3f\" % (np.mean(f1_list), np.std(f1_list,ddof=1)))\n",
    "    mean_std_f1score = np.std(f1_list,ddof=1)/np.sqrt(len(f1_list))\n",
    "    tconf_f1score = _tconfint_generic(mean_f1score, mean_std_f1score, len(f1_list) - 1, 0.05, 'two-sided')\n",
    "    print(\"Model f1-score 95%% confidence interval:\", tconf_f1score)\n",
    " \n",
    "    return acc_list, prec_list, rec_list, f1_list    \n",
    "\n",
    "def evaluate_metric(model, x_cv, y_cv):\n",
    "    return f1_score(y_cv, model.predict(x_cv))\n",
    "\n",
    "def change_threshold(optimizer, X_test, y_test):\n",
    "    y_proba = optimizer.best_estimator_.predict_proba(X_test)\n",
    "    f1_memory=0\n",
    "    for i in range(600):\n",
    "        threshold = 0.2+i*0.001\n",
    "        y_pred = (y_proba [:,1] >= threshold).astype('int')\n",
    "        f1= f1_score(y_test, y_pred)\n",
    "        if f1>f1_memory:\n",
    "            f1_memory=f1\n",
    "            threshold_memory=threshold\n",
    "    print('f1=',f1_memory)\n",
    "    print('threshold=',threshold_memory)\n",
    "    return threshold_memory, optimizer.best_estimator_\n",
    "def threshold(optimizer, X_test, y_test):\n",
    "    y_proba = optimizer.best_estimator_.predict_proba(X_test)\n",
    "    f1_list=[]\n",
    "    threshold_list=[]\n",
    "    prec_list=[]\n",
    "    rec_list=[]\n",
    "    for i in range(600):\n",
    "        threshold = 0.2+i*0.001\n",
    "        y_pred = (y_proba [:,1] >= threshold).astype('int')\n",
    "        f1= f1_score(y_test, y_pred)\n",
    "        prec=precision_score(y_test, y_pred)\n",
    "        rec=recall_score(y_test, y_pred)\n",
    "        threshold_list.append(threshold)\n",
    "        f1_list.append(f1)\n",
    "        prec_list.append(prec)\n",
    "        rec_list.append(rec)\n",
    "    plt.plot(threshold_list,f1_list,'b',label = 'f1')\n",
    "    plt.plot(threshold_list,prec_list,'r',label = 'precision')\n",
    "    plt.plot(threshold_list,rec_list,'g',label = 'recall')\n",
    "    plt.legend(loc = 'lower right')\n",
    "def results_with_changed_threshold(threshold, model, X_test, y_test):\n",
    "    y_proba = model.predict_proba(X_test)\n",
    "    y_pred = (y_proba [:,1] >= threshold).astype('int')\n",
    "    acc= (accuracy_score(y_test, y_pred))\n",
    "    print(\"Accuracy: %.2f%%\" % (acc * 100.0))\n",
    "    f1= f1_score(y_test, y_pred)\n",
    "    print('f1=',f1)\n",
    "    report = classification_report(y_test, y_pred)\n",
    "    print(report)\n",
    "    matrix = confusion_matrix(y_test, y_pred)\n",
    "    print(matrix)\n",
    "    cohen = cohen_kappa_score(y_test, y_pred)\n",
    "    print('cohen_kappa=',cohen)\n"
   ]
  },
  {
   "cell_type": "code",
   "execution_count": 3,
   "metadata": {},
   "outputs": [],
   "source": [
    "path = ''\n",
    "data_with_noise = pd.read_csv(path + '\\Feature matrix.csv', index_col=0)"
   ]
  },
  {
   "cell_type": "code",
   "execution_count": 4,
   "metadata": {
    "scrolled": true
   },
   "outputs": [
    {
     "name": "stdout",
     "output_type": "stream",
     "text": [
      "Data shape is (17875, 72)\n"
     ]
    }
   ],
   "source": [
    "X_test_neighbour_flag,X_neighbour, X_new, y, X_train_new, X_test_new, y_train_new, y_test_new,X_train_neighbour, X_test_neighbour, y_train_neighbour, y_test_neighbour, X_train_scaled_new, X_test_scaled_new, X_train_scaled_neighbour, X_test_scaled_neighbour,y = X_y_creation(data_with_noise,key = 'tail')"
   ]
  },
  {
   "cell_type": "markdown",
   "metadata": {},
   "source": [
    "### kNN"
   ]
  },
  {
   "cell_type": "code",
   "execution_count": 5,
   "metadata": {
    "scrolled": false
   },
   "outputs": [
    {
     "data": {
      "image/png": "[encoded data removed]",
      "text/plain": [
       "<Figure size 432x288 with 1 Axes>"
      ]
     },
     "metadata": {},
     "output_type": "display_data"
    },
    {
     "data": {
      "image/png": "[encoded data removed]",
      "text/plain": [
       "<Figure size 432x288 with 1 Axes>"
      ]
     },
     "metadata": {},
     "output_type": "display_data"
    },
    {
     "name": "stdout",
     "output_type": "stream",
     "text": [
      "Model characteristics -  KNeighborsClassifier(algorithm='auto', leaf_size=30, metric='minkowski',\n",
      "                     metric_params=None, n_jobs=None, n_neighbors=3, p=2,\n",
      "                     weights='uniform')\n"
     ]
    }
   ],
   "source": [
    "model = KNeighborsClassifier()\n",
    "cv=3\n",
    "param_grid = {'n_neighbors': [3,4,5,6,7]}\n",
    "optimizer,fpr,tpr,threshold = results(model, param_grid, cv, X_train_scaled_neighbour,y_train_neighbour, X_test_scaled_neighbour, y_test_neighbour)  "
   ]
  },
  {
   "cell_type": "code",
   "execution_count": 8,
   "metadata": {
    "scrolled": false
   },
   "outputs": [
    {
     "name": "stdout",
     "output_type": "stream",
     "text": [
      "Train with 0.5 threshold\n",
      "Accuracy: 94.61%\n",
      "f1= 0.8558461205964989\n",
      "              precision    recall  f1-score   support\n",
      "\n",
      "           0       0.96      0.97      0.97     10008\n",
      "           1       0.88      0.84      0.86      2367\n",
      "\n",
      "    accuracy                           0.95     12375\n",
      "   macro avg       0.92      0.90      0.91     12375\n",
      "weighted avg       0.95      0.95      0.95     12375\n",
      "\n",
      "[[9728  280]\n",
      " [ 387 1980]]\n",
      "cohen_kappa= 0.822721768133507\n",
      "Test with 0.5 threshold\n",
      "Accuracy: 87.49%\n",
      "f1= 0.6597428288822946\n",
      "              precision    recall  f1-score   support\n",
      "\n",
      "           0       0.92      0.93      0.92      4448\n",
      "           1       0.69      0.63      0.66      1052\n",
      "\n",
      "    accuracy                           0.87      5500\n",
      "   macro avg       0.80      0.78      0.79      5500\n",
      "weighted avg       0.87      0.87      0.87      5500\n",
      "\n",
      "[[4145  303]\n",
      " [ 385  667]]\n",
      "cohen_kappa= 0.5832654193997436\n"
     ]
    }
   ],
   "source": [
    "print(\"Train with 0.5 threshold\")\n",
    "results_with_changed_threshold(0.5, optimizer.best_estimator_, X_train_scaled_neighbour,y_train_neighbour)\n",
    "print(\"Test with 0.5 threshold\")\n",
    "results_with_changed_threshold(0.5, optimizer.best_estimator_, X_test_scaled_neighbour, y_test_neighbour)  "
   ]
  },
  {
   "cell_type": "code",
   "execution_count": 9,
   "metadata": {
    "scrolled": true
   },
   "outputs": [
    {
     "name": "stdout",
     "output_type": "stream",
     "text": [
      "Model accuracy: mean 0.875, std 0.014\n",
      "Model accuracy 95%% confidence interval: (0.8634095997753893, 0.886416383603643)\n",
      "Model precision: mean 0.687, std 0.035\n",
      "Model precision 95%% confidence interval: (0.6581633781222892, 0.7163692265457647)\n",
      "Model recall: mean 0.634, std 0.048\n",
      "Model recall 95%% confidence interval: (0.5936088325061749, 0.6745353960388168)\n",
      "Model f1-score: mean 0.659, std 0.040\n",
      "Model f1-score 95%% confidence interval: (0.625495743843129, 0.6931972421292947)\n"
     ]
    }
   ],
   "source": [
    "acc_list, precision_list, recall_list, f1_list = results_full_test(optimizer, 0.5, X_test_scaled_neighbour, y_test_neighbour)"
   ]
  },
  {
   "cell_type": "markdown",
   "metadata": {},
   "source": [
    "### Random Forest"
   ]
  },
  {
   "cell_type": "code",
   "execution_count": 22,
   "metadata": {
    "scrolled": false
   },
   "outputs": [
    {
     "data": {
      "image/png": "[encoded data removed]",
      "text/plain": [
       "<Figure size 432x288 with 1 Axes>"
      ]
     },
     "metadata": {},
     "output_type": "display_data"
    },
    {
     "data": {
      "image/png": "[encoded data removed]",
      "text/plain": [
       "<Figure size 432x288 with 1 Axes>"
      ]
     },
     "metadata": {},
     "output_type": "display_data"
    },
    {
     "name": "stdout",
     "output_type": "stream",
     "text": [
      "Model characteristics -  RandomForestClassifier(bootstrap=True, ccp_alpha=0.0, class_weight=None,\n",
      "                       criterion='gini', max_depth=14, max_features='auto',\n",
      "                       max_leaf_nodes=None, max_samples=None,\n",
      "                       min_impurity_decrease=0.0, min_impurity_split=None,\n",
      "                       min_samples_leaf=1, min_samples_split=2,\n",
      "                       min_weight_fraction_leaf=0.0, n_estimators=10, n_jobs=-1,\n",
      "                       oob_score=False, random_state=None, verbose=0,\n",
      "                       warm_start=False)\n"
     ]
    }
   ],
   "source": [
    "model = RandomForestClassifier(n_jobs=-1)\n",
    "param_grid = {'n_estimators': np.arange(8,11,1),'max_depth': np.arange(10,15,1)}\n",
    "optimizer,fpr,tpr,threshold = results(model, param_grid, cv, X_train_scaled_neighbour,y_train_neighbour, X_test_scaled_neighbour, y_test_neighbour)  "
   ]
  },
  {
   "cell_type": "code",
   "execution_count": 25,
   "metadata": {
    "scrolled": false
   },
   "outputs": [
    {
     "name": "stdout",
     "output_type": "stream",
     "text": [
      "Train\n",
      "f1= 0.9437247823317052\n",
      "threshold= 0.345\n",
      "Accuracy: 97.86%\n",
      "f1= 0.9437247823317052\n",
      "              precision    recall  f1-score   support\n",
      "\n",
      "           0       0.99      0.99      0.99     10008\n",
      "           1       0.95      0.94      0.94      2367\n",
      "\n",
      "    accuracy                           0.98     12375\n",
      "   macro avg       0.97      0.96      0.97     12375\n",
      "weighted avg       0.98      0.98      0.98     12375\n",
      "\n",
      "[[9888  120]\n",
      " [ 145 2222]]\n",
      "cohen_kappa= 0.9305023495212553\n",
      "Train with 0.5 threshold\n",
      "Accuracy: 95.11%\n",
      "f1= 0.8542519874728981\n",
      "              precision    recall  f1-score   support\n",
      "\n",
      "           0       0.94      1.00      0.97     10008\n",
      "           1       0.99      0.75      0.85      2367\n",
      "\n",
      "    accuracy                           0.95     12375\n",
      "   macro avg       0.97      0.87      0.91     12375\n",
      "weighted avg       0.95      0.95      0.95     12375\n",
      "\n",
      "[[9997   11]\n",
      " [ 594 1773]]\n",
      "cohen_kappa= 0.8255749709440139\n",
      "Test\n",
      "f1= 0.5295169946332737\n",
      "threshold= 0.347\n",
      "Accuracy: 80.87%\n",
      "f1= 0.5295169946332737\n",
      "              precision    recall  f1-score   support\n",
      "\n",
      "           0       0.89      0.87      0.88      4448\n",
      "           1       0.50      0.56      0.53      1052\n",
      "\n",
      "    accuracy                           0.81      5500\n",
      "   macro avg       0.70      0.71      0.70      5500\n",
      "weighted avg       0.82      0.81      0.81      5500\n",
      "\n",
      "[[3856  592]\n",
      " [ 460  592]]\n",
      "cohen_kappa= 0.41000507399715136\n",
      "Train with 0.5 threshold\n",
      "Accuracy: 84.36%\n",
      "f1= 0.41734417344173447\n",
      "              precision    recall  f1-score   support\n",
      "\n",
      "           0       0.85      0.97      0.91      4448\n",
      "           1       0.73      0.29      0.42      1052\n",
      "\n",
      "    accuracy                           0.84      5500\n",
      "   macro avg       0.79      0.63      0.66      5500\n",
      "weighted avg       0.83      0.84      0.82      5500\n",
      "\n",
      "[[4332  116]\n",
      " [ 744  308]]\n",
      "cohen_kappa= 0.34541062267087963\n",
      "Test with train threshold\n",
      "Accuracy: 80.71%\n",
      "f1= 0.5282347710093375\n",
      "              precision    recall  f1-score   support\n",
      "\n",
      "           0       0.89      0.86      0.88      4448\n",
      "           1       0.50      0.56      0.53      1052\n",
      "\n",
      "    accuracy                           0.81      5500\n",
      "   macro avg       0.69      0.71      0.70      5500\n",
      "weighted avg       0.82      0.81      0.81      5500\n",
      "\n",
      "[[3845  603]\n",
      " [ 458  594]]\n",
      "cohen_kappa= 0.40762431311625646\n"
     ]
    }
   ],
   "source": [
    "print(\"Train\")\n",
    "threshold_memory_train, optimizer.best_estimator_ = change_threshold(optimizer, X_train_scaled_neighbour,y_train_neighbour)\n",
    "results_with_changed_threshold(threshold_memory_train, optimizer.best_estimator_, X_train_scaled_neighbour,y_train_neighbour)\n",
    "print(\"Train with 0.5 threshold\")\n",
    "results_with_changed_threshold(0.5, optimizer.best_estimator_, X_train_scaled_neighbour,y_train_neighbour)\n",
    "print(\"Test\")\n",
    "threshold_memory_test, optimizer.best_estimator_ = change_threshold(optimizer, X_test_scaled_neighbour, y_test_neighbour)\n",
    "results_with_changed_threshold(threshold_memory_test, optimizer.best_estimator_, X_test_scaled_neighbour, y_test_neighbour)\n",
    "print(\"Train with 0.5 threshold\")\n",
    "results_with_changed_threshold(0.5, optimizer.best_estimator_, X_test_scaled_neighbour, y_test_neighbour)\n",
    "print(\"Test with train threshold\")\n",
    "results_with_changed_threshold(threshold_memory_train, optimizer.best_estimator_, X_test_scaled_neighbour, y_test_neighbour)   "
   ]
  },
  {
   "cell_type": "code",
   "execution_count": 26,
   "metadata": {},
   "outputs": [
    {
     "name": "stdout",
     "output_type": "stream",
     "text": [
      "Model accuracy: mean 0.809, std 0.008\n",
      "Model accuracy 95%% confidence interval: (0.8016348340130651, 0.8158221537327796)\n",
      "Model precision: mean 0.500, std 0.020\n",
      "Model precision 95%% confidence interval: (0.48399513398066796, 0.516717143184018)\n",
      "Model recall: mean 0.563, std 0.037\n",
      "Model recall 95%% confidence interval: (0.5314842572067365, 0.5940795873456578)\n",
      "Model f1-score: mean 0.529, std 0.023\n",
      "Model f1-score 95%% confidence interval: (0.5103052789959595, 0.5481026542940948)\n",
      "    \n",
      "Model accuracy: mean 0.807, std 0.011\n",
      "Model accuracy 95%% confidence interval: (0.7981644328267696, 0.8160259085631629)\n",
      "Model precision: mean 0.498, std 0.024\n",
      "Model precision 95%% confidence interval: (0.4776240755123797, 0.5178258118664952)\n",
      "Model recall: mean 0.565, std 0.021\n",
      "Model recall 95%% confidence interval: (0.5471637774937423, 0.5820867429781522)\n",
      "Model f1-score: mean 0.528, std 0.011\n",
      "Model f1-score 95%% confidence interval: (0.5191783015416127, 0.5376367110631779)\n"
     ]
    }
   ],
   "source": [
    "#result with test threshold\n",
    "acc_list, precision_list, recall_list, f1_list = results_full_test(optimizer, threshold_memory_test, X_test_scaled_neighbour, y_test_neighbour)\n",
    "print(\"    \")\n",
    "#result with train threshold\n",
    "acc_list, precision_list, recall_list, f1_list = results_full_test(optimizer, threshold_memory_train, X_test_scaled_neighbour, y_test_neighbour)"
   ]
  }
 ],
 "metadata": {
  "kernelspec": {
   "display_name": "Python 3",
   "language": "python",
   "name": "python3"
  },
  "language_info": {
   "codemirror_mode": {
    "name": "ipython",
    "version": 3
   },
   "file_extension": ".py",
   "mimetype": "text/x-python",
   "name": "python",
   "nbconvert_exporter": "python",
   "pygments_lexer": "ipython3",
   "version": "3.6.5"
  }
 },
 "nbformat": 4,
 "nbformat_minor": 2
}
