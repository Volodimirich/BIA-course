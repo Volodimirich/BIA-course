{
 "cells": [
  {
   "cell_type": "code",
   "execution_count": 1,
   "metadata": {
    "scrolled": true
   },
   "outputs": [
    {
     "name": "stdout",
     "output_type": "stream",
     "text": [
      "Populating the interactive namespace from numpy and matplotlib\n"
     ]
    }
   ],
   "source": [
    "import pandas as pd\n",
    "import numpy as np\n",
    "import seaborn as sns\n",
    "import matplotlib.pyplot as plt\n",
    "%matplotlib inline\n",
    "from sklearn.model_selection import train_test_split, cross_val_score, cross_val_predict\n",
    "from sklearn.svm import SVC\n",
    "from sklearn.linear_model import LogisticRegression\n",
    "import xgboost\n",
    "from sklearn.model_selection import GridSearchCV\n",
    "from sklearn.metrics import accuracy_score, confusion_matrix, f1_score, roc_auc_score,classification_report,cohen_kappa_score\n",
    "from sklearn.metrics import roc_curve,auc,precision_score,recall_score\n",
    "from sklearn.preprocessing import StandardScaler\n",
    "from sklearn.ensemble import RandomForestClassifier\n",
    "from sklearn.neighbors import KNeighborsClassifier\n",
    "from statsmodels.stats.weightstats import _zconfint_generic, _tconfint_generic\n",
    "from tqdm import tqdm_notebook\n",
    "from IPython import display\n",
    "import scipy\n",
    "import warnings\n",
    "warnings.filterwarnings(\"ignore\")\n",
    "%pylab inline\n",
    "import os\n",
    "import glob"
   ]
  },
  {
   "cell_type": "code",
   "execution_count": 2,
   "metadata": {},
   "outputs": [],
   "source": [
    "\"\"\"\n",
    "Function for training on training set and testing on testing set\n",
    "ROC-AUC and ROC curve are shown as results\n",
    "\"\"\"\n",
    "\n",
    "def results(model, param_grid, cv, X_train,y_train, X_test, y_test):\n",
    "    optimizer = GridSearchCV(model, param_grid, cv=cv, n_jobs=-1,scoring='f1')\n",
    "    optimizer.fit(X_train, y_train)\n",
    "\n",
    "    y_proba = optimizer.best_estimator_.predict_proba(X_train) ###\n",
    "    y_test1=y_train\n",
    "    fpr, tpr, threshold = roc_curve(y_test1, y_proba[:,1])\n",
    "    roc_auc1 = auc(fpr, tpr)\n",
    "    plt.title('Receiver Operating Characteristic for train')\n",
    "    plt.plot(fpr, tpr, 'b', label = 'AUC1 = %0.2f' % roc_auc1)\n",
    "    plt.legend(loc = 'lower right')\n",
    "    plt.plot([0, 1], [0, 1],'r--')\n",
    "    plt.xlim([0, 1])\n",
    "    plt.ylim([0, 1])\n",
    "    plt.ylabel('True Positive Rate')\n",
    "    plt.xlabel('False Positive Rate')\n",
    "    plt.show()\n",
    "    \n",
    "    y_proba = optimizer.best_estimator_.predict_proba(X_test) ###\n",
    "    fpr, tpr, threshold = roc_curve(y_test, y_proba[:,1])\n",
    "    roc_auc1 = auc(fpr, tpr)\n",
    "    plt.title('Receiver Operating Characteristic for test')\n",
    "    plt.plot(fpr, tpr, 'b', label = 'AUC1 = %0.2f' % roc_auc1)\n",
    "    plt.legend(loc = 'lower right')\n",
    "    plt.plot([0, 1], [0, 1],'r--')\n",
    "    plt.xlim([0, 1])\n",
    "    plt.ylim([0, 1])\n",
    "    plt.ylabel('True Positive Rate')\n",
    "    plt.xlabel('False Positive Rate')\n",
    "    plt.show()\n",
    "    \n",
    "    print(\"Model characteristics - \",optimizer.best_estimator_) \n",
    "    return optimizer,fpr,tpr,threshold\n",
    "  \n",
    "\"\"\"\n",
    "Creation of list of slices (shape 8 by 8) with probabilities of each electrode to be a driver\n",
    "One slice indicates the 5 seconds duration's window of Fourier spectrum \n",
    "\"\"\"\n",
    "def figures_for_slice(data,model,X_scaled_testset, show_figures = False):\n",
    "    k=int(data.shape[0]/64)\n",
    "    probabilities = []\n",
    "    for i in range(k):\n",
    "        predictions = model.predict_proba(X_scaled_testset)[i*64:(i+1)*64,1]\n",
    "        probabilities.append(predictions)\n",
    "        if show_figures:\n",
    "            resized_y_pred = np.resize(predictions,(8,8))\n",
    "            plt.figure()\n",
    "            sns.heatmap(resized_y_pred,vmax = 1,cmap = 'jet', xticklabels='', yticklabels='', cbar=False)\n",
    "    probabilities = np.array(probabilities)\n",
    "    return probabilities\n",
    "\n",
    "\n",
    "\"\"\"\n",
    "Visualization of real and predicted probabilities of electrode grid\n",
    "The final probability calculates as mean of all slices' probabilities\n",
    "\"\"\"\n",
    "def figures_with_probabilities(data, y_testset, probabilities):\n",
    "    print('Real labels')\n",
    "    resized_y = np.resize(y_testset,(8,8))\n",
    "    sns.heatmap(resized_y,cmap = 'gray', xticklabels='', yticklabels='', cbar=False)\n",
    "    \n",
    "    k=int(data.shape[0]/64)\n",
    "    print('Predicted labels - only mean of electrodes')\n",
    "    probabilities_mean = []\n",
    "    for i in range(64):\n",
    "        mean_grid=np.mean(probabilities[:,i])\n",
    "        probabilities_mean.append(mean_grid)\n",
    "    resized_probabilities_mean = np.resize(probabilities_mean,(8,8))\n",
    "    plt.figure()\n",
    "    sns.heatmap(resized_probabilities_mean,cmap = 'jet', xticklabels='', yticklabels='', cbar=True)\n",
    "    \n",
    "    return resized_probabilities_mean"
   ]
  },
  {
   "cell_type": "code",
   "execution_count": 3,
   "metadata": {},
   "outputs": [
    {
     "name": "stderr",
     "output_type": "stream",
     "text": [
      " 41%|█████████████████████████████████▎                                                | 13/32 [00:00<00:01, 14.05it/s]"
     ]
    },
    {
     "name": "stdout",
     "output_type": "stream",
     "text": [
      "selected! D:\\Data\\reannotation\\Features\\semidrivers\\separated features semidrivers\\Feature matrix electrode signal AF semidrivers with flags F22.csv\n"
     ]
    },
    {
     "name": "stderr",
     "output_type": "stream",
     "text": [
      "100%|██████████████████████████████████████████████████████████████████████████████████| 32/32 [00:02<00:00, 13.59it/s]\n"
     ]
    }
   ],
   "source": [
    "path = ''\n",
    "name = 'F22.csv'\n",
    "data_with_noise_train=pd.DataFrame()\n",
    "data_with_noise_test=pd.DataFrame()\n",
    "for filename in tqdm(glob.glob(os.path.join(path, '*.csv'))):\n",
    "    if not any(name in filename): \n",
    "        #print('not '+filename)\n",
    "        new_data = pd.read_csv(filename, index_col=0)\n",
    "        data_with_noise_train = pd.concat([s.reset_index(drop=True) for s in [data_with_noise_train,new_data]], axis=0)\n",
    "    if any(name in filename): \n",
    "        print('selected! '+filename)\n",
    "        new_data = pd.read_csv(filename, index_col=0)\n",
    "        data_with_noise_test = pd.concat([s.reset_index(drop=True) for s in [data_with_noise_test,new_data]], axis=0)\n",
    "data_train = data_with_noise_train.loc[~data_with_noise_train['target'].isin([-1])]\n",
    "data_train['target'] = data_train['target'].map({1: 1, 0: 0,0.5:1})\n",
    "data_test= data_with_noise_test\n",
    "data_test['target'] = data_with_noise_test['target'].map({1: 1, 0: 0,0.5:1,-1:0})"
   ]
  },
  {
   "cell_type": "code",
   "execution_count": 4,
   "metadata": {
    "scrolled": true
   },
   "outputs": [
    {
     "name": "stdout",
     "output_type": "stream",
     "text": [
      "Train shape is (25344, 35)\n",
      "Test shape is (1600, 35)\n"
     ]
    }
   ],
   "source": [
    "X_neighbour_train = data_train.drop(data_train.columns[:35], 1)\n",
    "X_neighbour_train = X_neighbour_train.drop('target', 1)\n",
    "X_neighbour_train = X_neighbour_train.drop('flag', 1)\n",
    "y_train = data_train['target']\n",
    "print(\"Train shape is\",X_neighbour_train.shape)\n",
    "normalizer = pd.read_csv('' +'\\AF MEM neigbour normalizer.csv', index_col=0)\n",
    "X_scaled_train = (X_neighbour_train-normalizer.iloc[:,0])/normalizer.iloc[:,1]\n",
    "\n",
    "X_neighbour_test = data_test.drop(data_test.columns[:35], 1)\n",
    "X_neighbour_test = X_neighbour_test.drop('target', 1)\n",
    "X_neighbour_test = X_neighbour_test.drop('flag', 1)\n",
    "print(\"Test shape is\",X_neighbour_test.shape)\n",
    "y_testset = data_test['target']\n",
    "X_scaled_testset = (X_neighbour_test-normalizer.iloc[:,0])/normalizer.iloc[:,1]"
   ]
  },
  {
   "cell_type": "markdown",
   "metadata": {},
   "source": [
    "### kNN"
   ]
  },
  {
   "cell_type": "code",
   "execution_count": 5,
   "metadata": {},
   "outputs": [
    {
     "data": {
      "image/png": "[encoded data removed]",
      "text/plain": [
       "<Figure size 432x288 with 1 Axes>"
      ]
     },
     "metadata": {},
     "output_type": "display_data"
    },
    {
     "data": {
      "image/png": "[encoded data removed]",
      "text/plain": [
       "<Figure size 432x288 with 1 Axes>"
      ]
     },
     "metadata": {},
     "output_type": "display_data"
    },
    {
     "name": "stdout",
     "output_type": "stream",
     "text": [
      "Model characteristics -  KNeighborsClassifier(algorithm='auto', leaf_size=30, metric='minkowski',\n",
      "                     metric_params=None, n_jobs=None, n_neighbors=3, p=2,\n",
      "                     weights='uniform')\n"
     ]
    }
   ],
   "source": [
    "model = KNeighborsClassifier()\n",
    "method='kNN'\n",
    "param_grid = {'n_neighbors': [3]}\n",
    "cv = 3\n",
    "optimizer,fpr,tpr,threshold = results(model, param_grid, cv, X_scaled_train,y_train, X_scaled_testset, y_testset)\n",
    "knn_probabilities = figures_for_slice(data_test,optimizer.best_estimator_,X_scaled_testset)"
   ]
  },
  {
   "cell_type": "code",
   "execution_count": 6,
   "metadata": {
    "scrolled": false
   },
   "outputs": [
    {
     "name": "stdout",
     "output_type": "stream",
     "text": [
      "Real labels\n",
      "Predicted labels - only mean of electrodes\n"
     ]
    },
    {
     "data": {
      "image/png": "[encoded data removed]",
      "text/plain": [
       "<Figure size 432x288 with 1 Axes>"
      ]
     },
     "metadata": {},
     "output_type": "display_data"
    },
    {
     "data": {
      "image/png": "[encoded data removed]",
      "text/plain": [
       "<Figure size 432x288 with 2 Axes>"
      ]
     },
     "metadata": {},
     "output_type": "display_data"
    }
   ],
   "source": [
    "resized_probabilities_mean = figures_with_probabilities(data_test,y_testset, knn_probabilities)"
   ]
  },
  {
   "cell_type": "code",
   "execution_count": 8,
   "metadata": {},
   "outputs": [
    {
     "data": {
      "image/png": "[encoded data removed]",
      "text/plain": [
       "<Figure size 432x288 with 2 Axes>"
      ]
     },
     "metadata": {},
     "output_type": "display_data"
    }
   ],
   "source": [
    "plt.figure()\n",
    "sns.heatmap(resized_probabilities_mean, cmap = 'gray')\n",
    "savefig('Predicted labels '+name+method+' Figure 6 gray.ps')"
   ]
  }
 ],
 "metadata": {
  "kernelspec": {
   "display_name": "Python 3",
   "language": "python",
   "name": "python3"
  },
  "language_info": {
   "codemirror_mode": {
    "name": "ipython",
    "version": 3
   },
   "file_extension": ".py",
   "mimetype": "text/x-python",
   "name": "python",
   "nbconvert_exporter": "python",
   "pygments_lexer": "ipython3",
   "version": "3.6.5"
  }
 },
 "nbformat": 4,
 "nbformat_minor": 2
}
