{
 "cells": [
  {
   "cell_type": "code",
   "execution_count": null,
   "metadata": {},
   "outputs": [],
   "source": [
    "# Import some libraries\n",
    "\n",
    "import numpy as np\n",
    "from skimage import color, data, restoration\n",
    "import matplotlib.pyplot as plt\n",
    "import numpy.random as npr\n",
    "import scipy\n",
    "from scipy.signal import fftconvolve, convolve\n",
    "from scipy.signal import convolve2d\n",
    "import torch\n",
    "import torch.nn as nn\n",
    "from skimage import io\n",
    "import skimage\n",
    "from PIL import Image\n",
    "from scipy import fftpack\n",
    "import warnings\n",
    "warnings.filterwarnings('ignore')"
   ]
  },
  {
   "cell_type": "code",
   "execution_count": null,
   "metadata": {},
   "outputs": [],
   "source": [
    "#Define function to show images\n",
    "\n",
    "def show_images(im1, im1_title, im2, im2_title, im3, im3_title, font):\n",
    "    fig, (image1, image2, image3) = plt.subplots(1, 3, figsize=(15, 50))\n",
    "    image1.imshow(im1, cmap='gray')\n",
    "    image1.set_title(im1_title, fontsize=font)\n",
    "    image1.set_axis_off()\n",
    "    image2.imshow(im2, cmap='gray')\n",
    "    image2.set_title(im2_title, fontsize=font)\n",
    "    image2.set_axis_off()\n",
    "    image3.imshow(im3, cmap='gray')\n",
    "    image3.set_title(im3_title, fontsize=font)\n",
    "    image3.set_axis_off()\n",
    "    fig.subplots_adjust(wspace=0.02, hspace=0.2,\n",
    "                                top=0.9, bottom=0.05, left=0, right=1)\n",
    "    fig.show()"
   ]
  },
  {
   "cell_type": "markdown",
   "metadata": {},
   "source": [
    "## Load the data"
   ]
  },
  {
   "cell_type": "code",
   "execution_count": null,
   "metadata": {},
   "outputs": [],
   "source": [
    "#Load the target image\n",
    "image = io.imread('./image.tif')\n",
    "\n",
    "#Load the blurred and distorted images\n",
    "blurred = io.imread('./blurred.tif')\n",
    "distorted = io.imread('./distorted.tif')\n",
    "\n",
    "#Load the kernel\n",
    "psf = io.imread('./PSF.tif')"
   ]
  },
  {
   "cell_type": "code",
   "execution_count": null,
   "metadata": {},
   "outputs": [],
   "source": [
    "show_images(image, 'Original image', blurred, 'Blurred image',\\\n",
    "           distorted, 'Blurred and noisy image', font=18)"
   ]
  },
  {
   "cell_type": "markdown",
   "metadata": {},
   "source": [
    "## (Naive) Inverse filtering"
   ]
  },
  {
   "cell_type": "markdown",
   "metadata": {},
   "source": [
    "Convolution of two signals (or images in our case) is equal to the pointwise multiplication of their Fourier transforms, i.e.\n",
    "\n",
    "$y(i,j) = k(i,j) \\ast x(i,j) + n(i,j)$ <--> $Y(u,v) = K(u,v)X(u,v) + N(u,v)$\n",
    "\n",
    "Consequently, the simplest approach in deconvolution is to perform element-wise division in the Fourier domain to find the underlying image $\\textit{x}$:\n",
    "\n",
    "$\\hat{X}(u,v) = \\frac{Y(u,v)}{K(u,v)} = \\frac{K(u,v)X(u,v) + N(u,v)}{K(u,v)} = \\frac{K(u,v)X(u,v)}{K(u,v)} + \\frac{N(u,v)}{K(u,v)}$, \n",
    "\n",
    "$\\hat{x}(i,j) = F^{-1}\\hat{X}(u,v)$\n",
    "\n",
    "For this task let's firstly consider the case of an image corrupted with blur only."
   ]
  },
  {
   "cell_type": "code",
   "execution_count": null,
   "metadata": {},
   "outputs": [],
   "source": [
    "## SOLUTION\n",
    "Y = scipy.fft.fft2(blurred)\n",
    "\n",
    "# Let's do all necessary modifications with the PSF before applying Fourier transform:\n",
    "\n",
    "kernel_size = (blurred.shape[0] - psf.shape[0], blurred.shape[1] - psf.shape[1])  \n",
    "psf = np.pad(psf, (((kernel_size[0]+1)//2, kernel_size[0]//2), \\\n",
    "                    ((kernel_size[1]+1)//2, kernel_size[1]//2)), 'constant')\n",
    "kernel = fftpack.ifftshift(psf)\n",
    "K = scipy.fft.fft2(kernel)\n",
    "\n",
    "X_hat = Y/K\n",
    "x_hat = fftpack.ifft2(X_hat).real"
   ]
  },
  {
   "cell_type": "code",
   "execution_count": null,
   "metadata": {},
   "outputs": [],
   "source": [
    "show_images(image, 'Original image', blurred, 'Blurred image',\\\n",
    "           x_hat, 'Restored with the inverse filter', font=18)"
   ]
  },
  {
   "cell_type": "markdown",
   "metadata": {},
   "source": [
    "In real life the image is corrupted not only with blur, but also with noise, so next we are going to consider the inverse filtering of an image distorted with blur and noise."
   ]
  },
  {
   "cell_type": "code",
   "execution_count": null,
   "metadata": {},
   "outputs": [],
   "source": [
    "## SOLUTION\n",
    "Y = scipy.fft.fft2(distorted)\n",
    "\n",
    "# Do all necessary modifications with the PSF before applying Fourier transform:\n",
    "\n",
    "kernel_size = (distorted.shape[0] - psf.shape[0], distorted.shape[1] - psf.shape[1])  \n",
    "kernel = np.pad(psf, (((kernel_size[0]+1)//2, kernel_size[0]//2), ((kernel_size[1]+1)//2, kernel_size[1]//2)), 'constant')\n",
    "# kernel = fftpack.ifftshift(kernel)\n",
    "K = scipy.fft.fft2(kernel)\n",
    "\n",
    "X_hat_noise = Y/K\n",
    "x_hat_noise = fftpack.ifft2(X_hat_noise).real\n",
    "x_hat_noise = np.abs(np.fft.ifftshift(np.fft.ifft2(np.fft.fftshift(X_hat_noise))))"
   ]
  },
  {
   "cell_type": "code",
   "execution_count": null,
   "metadata": {},
   "outputs": [],
   "source": [
    "show_images(image, 'Original image', distorted, 'Blurred image',\\\n",
    "           x_hat_noise, 'Restored with inverse filter', font=18)"
   ]
  },
  {
   "cell_type": "markdown",
   "metadata": {},
   "source": [
    "## Richardson-Lucy "
   ]
  },
  {
   "cell_type": "markdown",
   "metadata": {},
   "source": [
    "Image formation is described as following:\n",
    "$\\mathbf{y}_n = \\mathcal{P}(\\mathbf{Kx}_n)$, where $\\mathcal{P}$ denotes Poisson noise disturbing the image, $\\mathbf{y}_n, \\mathbf{x}_n\\ \\text{and}\\ \\mathbf{K}$ denote vector representations of the data.\n",
    "\n",
    "Richardson-Lucy deconvolution algotithm is based on the Bayes rule as following:\n",
    "$p\\left(\\mathbf{y}_{n} \\mid \\mathbf{x}\\right)=\\frac{(\\mathbf{K} \\mathbf{x})_{n}^{\\mathbf{y}_{n}} e^{-}(\\mathbf{K} \\mathbf{x})_{n}}{\\mathbf{y}_{n} !}$\n",
    "\n",
    "Maximization of probability $p\\left(\\mathbf{y}_{n} \\mid \\mathbf{x}\\right)$ is equivalent to minimizartion of log probability\n",
    "\n",
    "$\\log (p(\\mathbf{y} \\mid \\mathbf{x}))=\\log (\\mathbf{K} \\mathbf{x})^{T} \\mathbf{y}-(\\mathbf{K} \\mathbf{x})^{T} \\mathbf{1}-\\sum_{i=1}^{M} \\log \\left(\\mathbf{y}_{n} !\\right)$\n",
    "\n",
    "Three main conditions:\n",
    "- $J = -log(p(\\mathbf{y}|\\mathbf{x})), \\nabla{J} = 0$ - at solution gradient is zero;\n",
    "\n",
    "- $\\frac{\\mathbf{x}_{i+1}}{\\mathbf{x}} = 1$ - when converged, further iterations do not change;\n",
    "\n",
    "- PSF is normalized such that sum of elements equals to 1.\n",
    "\n",
    "We can form the Richardson-Lucy multiplicative update rule:\n",
    "$\\mathbf{x}_{i+1}=\\mathbf{K}^{T} \\odot(\\mathbf{K} \\mathbf{x})^{-1} \\odot \\mathbf{y} \\odot \\mathbf{x}_{i}$"
   ]
  },
  {
   "cell_type": "code",
   "execution_count": null,
   "metadata": {},
   "outputs": [],
   "source": [
    "im_deconv = distorted.copy()\n",
    "\n",
    "#Set number of Richardson-Lucy iterations\n",
    "iterations = 10\n",
    "\n",
    "for _ in range(iterations):\n",
    "    print('Running Richardson-Lucy iteration {}'.format(_+1))\n",
    "    # Calculate Kx\n",
    "    Kx = convolve2d(im_deconv, psf[::-1, ::-1], mode='same', boundary='symm')\n",
    "    # Calculate (Kx)^-1 (*) y\n",
    "    relative_blur = distorted/Kx\n",
    "    # Calculate K^T(*) (Kx)^-1 (*) y\n",
    "    KTx = convolve2d(relative_blur, psf[::-1, ::-1], mode='same', boundary='symm')\n",
    "    im_deconv = KTx * im_deconv"
   ]
  },
  {
   "cell_type": "code",
   "execution_count": null,
   "metadata": {},
   "outputs": [],
   "source": [
    "show_images(image, 'Original image', distorted, 'Blurred and noisy image',\\\n",
    "           im_deconv, 'Restored with Richardson-Lucy', font=18)"
   ]
  },
  {
   "cell_type": "markdown",
   "metadata": {},
   "source": [
    "#### Include Total-Variation regularization "
   ]
  },
  {
   "cell_type": "markdown",
   "metadata": {},
   "source": [
    "Total-variation implies regularization of the gradient of the image. It is based on the principle that signals with excessive and possibly spurious detail have high total variation (c) Wikipedia.\n",
    "\n",
    "With inclusion of a regularization the solution yields the form\n",
    "\n",
    "$J = -(\\log (p(\\mathbf{y} \\mid \\mathbf{x}))=\\log (\\mathbf{K} \\mathbf{x})^{T} \\mathbf{y}-(\\mathbf{K} \\mathbf{x})^{T} \\mathbf{1}-\\sum_{i=1}^{M} \\log \\left(\\mathbf{y}_{n} !\\right)) + \\lambda|\\nabla\\mathbf{x}|$.\n",
    "\n",
    "Finally, the Richardson-Lucy multiplicative update rule has the shape of\n",
    "\n",
    "$\\mathbf{x}_{i+1}=\\mathbf{K}^{T} \\odot(\\mathbf{K} \\mathbf{x})^{-1} \\odot \\mathbf{y} \\odot \\frac{\\mathbf{x}_{i}}{1 - \\lambda \\text{div}\\left( \\frac{\\nabla{\\mathbf{x}}}{|\\nabla{\\mathbf{x}}|} \\right)}$."
   ]
  },
  {
   "cell_type": "code",
   "execution_count": null,
   "metadata": {},
   "outputs": [],
   "source": [
    "def tv_grad(image, lamda):\n",
    "    \n",
    "    #Let's calculate image gradients over x and y axis (\\nabla{x})\n",
    "    dx = np.gradient(image)[1] \n",
    "    dy = np.gradient(image)[0]\n",
    "    \n",
    "    #We add small epsilon value to avoid numerical instability\n",
    "    eps = 1e-6\n",
    "    \n",
    "    norm = np.sqrt(dx*dx + dy*dy) #|\\nabla{x}|\n",
    "    ndx = dx.copy()\n",
    "    ndy = dy.copy()\n",
    "    \n",
    "    ndx[norm<eps] = eps\n",
    "    ndy[norm<eps] = eps\n",
    "    \n",
    "    #Calculate (\\nabla{x}/|\\nabla{x}|) over x and y axis\n",
    "    ndx[norm>=eps] = dx[norm>=eps] / norm[norm>=eps]\n",
    "    ndy[norm>=eps] = dy[norm>=eps] / norm[norm>=eps]\n",
    "    \n",
    "    #Calculate gradients of the equation above over x and y axis\n",
    "    ddx = np.gradient(ndx)[1] \n",
    "    ddy = np.gradient(ndx)[0] \n",
    "\n",
    "    #Calculate TV-part of the equation\n",
    "    tv_part = 1/(1 - (ddx + ddy)*lamda)\n",
    "    del ndx, ndy, ddx, ddy, dx, dy\n",
    "    \n",
    "    return tv_part"
   ]
  },
  {
   "cell_type": "code",
   "execution_count": null,
   "metadata": {},
   "outputs": [],
   "source": [
    "im_deconv = distorted.copy()\n",
    "\n",
    "#Set number of Richardson-Lucy iterations\n",
    "iterations = 10\n",
    "\n",
    "for _ in range(iterations):\n",
    "    print('Running Richardson-Lucy iteration {}'.format(_+1))\n",
    "    # Calculate Kx\n",
    "    Kx = convolve2d(im_deconv, psf[::-1, ::-1], mode='same', boundary='symm')\n",
    "    # Calculate (Kx)^-1 (*) y\n",
    "    relative_blur = distorted/Kx\n",
    "    # Calculate K^T(*) (Kx)^-1 (*) y\n",
    "    KTx = convolve2d(relative_blur, psf[::-1, ::-1], mode='same', boundary='symm')\n",
    "    im_deconv = tv_grad(im_deconv, 1e-1)* KTx * im_deconv"
   ]
  },
  {
   "cell_type": "code",
   "execution_count": null,
   "metadata": {},
   "outputs": [],
   "source": [
    "show_images(image, 'Original image', distorted, 'Blurred image',\\\n",
    "           im_deconv, 'Restored with Richardson-Lucy with TV', font=18)"
   ]
  }
 ],
 "metadata": {
  "kernelspec": {
   "display_name": "Python 3",
   "language": "python",
   "name": "python3"
  },
  "language_info": {
   "codemirror_mode": {
    "name": "ipython",
    "version": 3
   },
   "file_extension": ".py",
   "mimetype": "text/x-python",
   "name": "python",
   "nbconvert_exporter": "python",
   "pygments_lexer": "ipython3",
   "version": "3.7.6"
  }
 },
 "nbformat": 4,
 "nbformat_minor": 4
}
