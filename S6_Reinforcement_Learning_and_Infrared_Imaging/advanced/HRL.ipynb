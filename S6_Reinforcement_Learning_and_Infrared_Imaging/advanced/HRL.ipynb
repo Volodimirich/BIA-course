{
 "cells": [
  {
   "cell_type": "code",
   "execution_count": 1,
   "id": "unauthorized-radio",
   "metadata": {},
   "outputs": [],
   "source": [
    "%matplotlib inline"
   ]
  },
  {
   "cell_type": "code",
   "execution_count": 2,
   "id": "overall-paper",
   "metadata": {},
   "outputs": [],
   "source": [
    "import gym\n",
    "import math\n",
    "import random\n",
    "import numpy as np\n",
    "import matplotlib\n",
    "import matplotlib.pyplot as plt\n",
    "from collections import namedtuple\n",
    "from itertools import count\n",
    "from PIL import Image\n",
    "from tqdm.notebook import tqdm\n",
    "\n",
    "import Mask_Proj_Env as Env\n",
    "import Sub_Agent as sub_agent\n",
    "import Master_Agent as master_agent\n",
    "import cv2\n",
    "import sys"
   ]
  },
  {
   "cell_type": "code",
   "execution_count": 3,
   "id": "intimate-annotation",
   "metadata": {},
   "outputs": [],
   "source": [
    "main_path = \"./images/\"\n",
    "img_path = \"image.jpg\"\n",
    "msk_path = 'mask.jpg'\n",
    "\n",
    "    \n",
    "load_image, load_mask = Env.load_image_mask(main_path, img_path, msk_path)\n",
    "\n",
    "env = Env.Mask_Proj_Env(load_image, load_mask)\n",
    "\n",
    "# set up matplotlib\n",
    "is_ipython = 'inline' in matplotlib.get_backend()\n",
    "if is_ipython:\n",
    "    from IPython import display\n",
    "\n",
    "plt.ion()"
   ]
  },
  {
   "cell_type": "code",
   "execution_count": 15,
   "id": "western-sight",
   "metadata": {},
   "outputs": [],
   "source": [
    "def plot_rewards(episode_rewards):\n",
    "    plt.figure(1)\n",
    "    plt.clf()\n",
    "    plt.title('Training...')\n",
    "    plt.xlabel('Episode')\n",
    "    plt.ylabel('Steps')\n",
    "    plt.plot(episode_rewards)\n",
    "\n"
   ]
  },
  {
   "cell_type": "code",
   "execution_count": 5,
   "id": "emotional-zambia",
   "metadata": {},
   "outputs": [],
   "source": [
    "still_action = env.STILL\n",
    "vertical_actions = [env.UP, env.DOWN]\n",
    "horizontal_actions = [env.LEFT, env.RIGHT]\n",
    "rotation_actions = [env.CLOCKWISE, env.COUNTER]\n",
    "scaling_actions = [env.INCREASE, env.DECREASE]\n",
    "\n",
    "actions={\n",
    "    \"vertical\" : vertical_actions,\n",
    "    \"horizontal\": horizontal_actions, \n",
    "    \"rotation\" : rotation_actions,\n",
    "    \"scaling\" : scaling_actions\n",
    "}\n",
    "\n",
    "\n",
    "# Number of actions\n",
    "n_actions_manager = 5"
   ]
  },
  {
   "cell_type": "code",
   "execution_count": 6,
   "id": "deluxe-remedy",
   "metadata": {},
   "outputs": [],
   "source": [
    "# Q Window of Master Agent\n",
    "N_master = 5 \n",
    "\n",
    "steps_done = 0\n",
    "episode_rewards = []\n",
    "manhattans = []\n",
    "\n",
    "# master & sub agents have a MAX number of possible steps\n",
    "max_step_master = 1000\n",
    "max_step_sub = 100\n",
    "# you need a high number of episodes to make the agent learn properly\n",
    "# increase the num_episodes variable and go take a coffee while the agent learns\n",
    "num_episodes = 10\n",
    "\n",
    "agent_info = {\n",
    "    \"window_size\":N_master, \"num_actions\":n_actions_manager, \"num_states\":4, \"still\":0, \"actions\":actions, \"step_size\":1, \n",
    "    \"agent_size\":3, \"path\":\"\", \"debug\":False, \"learning\":True    \n",
    "}\n",
    "\n",
    "master = master_agent.Master_Agent()\n",
    "master.agent_init(agent_info)"
   ]
  },
  {
   "cell_type": "code",
   "execution_count": 7,
   "id": "strategic-awareness",
   "metadata": {
    "scrolled": true
   },
   "outputs": [
    {
     "data": {
      "application/vnd.jupyter.widget-view+json": {
       "model_id": "6f6eaace76484359b5eabd4a6972a81f",
       "version_major": 2,
       "version_minor": 0
      },
      "text/plain": [
       "  0%|          | 0/10 [00:00<?, ?it/s]"
      ]
     },
     "metadata": {},
     "output_type": "display_data"
    },
    {
     "data": {
      "application/vnd.jupyter.widget-view+json": {
       "model_id": "7a754ba291a54fcd985b7c868cddea2c",
       "version_major": 2,
       "version_minor": 0
      },
      "text/plain": [
       "  0%|          | 0/1000 [00:00<?, ?it/s]"
      ]
     },
     "metadata": {},
     "output_type": "display_data"
    },
    {
     "data": {
      "application/vnd.jupyter.widget-view+json": {
       "model_id": "0fb897e8e8cf48339afdff23507355fb",
       "version_major": 2,
       "version_minor": 0
      },
      "text/plain": [
       "  0%|          | 0/1000 [00:00<?, ?it/s]"
      ]
     },
     "metadata": {},
     "output_type": "display_data"
    },
    {
     "data": {
      "application/vnd.jupyter.widget-view+json": {
       "model_id": "7cf10995b64e462e8895946d846aebf1",
       "version_major": 2,
       "version_minor": 0
      },
      "text/plain": [
       "  0%|          | 0/1000 [00:00<?, ?it/s]"
      ]
     },
     "metadata": {},
     "output_type": "display_data"
    },
    {
     "data": {
      "application/vnd.jupyter.widget-view+json": {
       "model_id": "6c762c22035843109eedd70f01009172",
       "version_major": 2,
       "version_minor": 0
      },
      "text/plain": [
       "  0%|          | 0/1000 [00:00<?, ?it/s]"
      ]
     },
     "metadata": {},
     "output_type": "display_data"
    },
    {
     "data": {
      "application/vnd.jupyter.widget-view+json": {
       "model_id": "f8fbfb16174c4751afa6cbefcf611e46",
       "version_major": 2,
       "version_minor": 0
      },
      "text/plain": [
       "  0%|          | 0/1000 [00:00<?, ?it/s]"
      ]
     },
     "metadata": {},
     "output_type": "display_data"
    },
    {
     "data": {
      "application/vnd.jupyter.widget-view+json": {
       "model_id": "3cc6d97bbf334f68bfc4cb00d7946c38",
       "version_major": 2,
       "version_minor": 0
      },
      "text/plain": [
       "  0%|          | 0/1000 [00:00<?, ?it/s]"
      ]
     },
     "metadata": {},
     "output_type": "display_data"
    },
    {
     "data": {
      "application/vnd.jupyter.widget-view+json": {
       "model_id": "763148fac11c4b768c4d46bcf9dfc321",
       "version_major": 2,
       "version_minor": 0
      },
      "text/plain": [
       "  0%|          | 0/1000 [00:00<?, ?it/s]"
      ]
     },
     "metadata": {},
     "output_type": "display_data"
    },
    {
     "data": {
      "application/vnd.jupyter.widget-view+json": {
       "model_id": "f45e549fec6943579aaa639e359cfcb6",
       "version_major": 2,
       "version_minor": 0
      },
      "text/plain": [
       "  0%|          | 0/1000 [00:00<?, ?it/s]"
      ]
     },
     "metadata": {},
     "output_type": "display_data"
    },
    {
     "data": {
      "application/vnd.jupyter.widget-view+json": {
       "model_id": "3831b996504646e98f4e8d4606bdf9ac",
       "version_major": 2,
       "version_minor": 0
      },
      "text/plain": [
       "  0%|          | 0/1000 [00:00<?, ?it/s]"
      ]
     },
     "metadata": {},
     "output_type": "display_data"
    },
    {
     "data": {
      "application/vnd.jupyter.widget-view+json": {
       "model_id": "a83b8cc67588427eb8c4ccbe355e4dff",
       "version_major": 2,
       "version_minor": 0
      },
      "text/plain": [
       "  0%|          | 0/1000 [00:00<?, ?it/s]"
      ]
     },
     "metadata": {},
     "output_type": "display_data"
    }
   ],
   "source": [
    "# Train agent\n",
    "for i_episode in  tqdm(range(num_episodes)):\n",
    "    obs, reward = env.reset()\n",
    "    master.agent_start(obs)\n",
    "    \n",
    "    for t in  tqdm(range(max_step_master)):\n",
    "        action = master.agent_step(obs, reward, False)\n",
    "        obs, reward, done, info = env.step(action, False)\n",
    "        rewards=t\n",
    "        if done:\n",
    "            break\n",
    "    episode_rewards.append(t)\n",
    "    manhattans.append(env.manhattan)\n",
    "    \n",
    "# running this cell you will see the numbers of step that the agent needs to align from a random position  \n",
    "#"
   ]
  },
  {
   "cell_type": "code",
   "execution_count": 16,
   "id": "functional-heading",
   "metadata": {},
   "outputs": [
    {
     "data": {
      "image/png": "[encoded data removed]",
      "text/plain": [
       "<Figure size 432x288 with 1 Axes>"
      ]
     },
     "metadata": {
      "needs_background": "light"
     },
     "output_type": "display_data"
    }
   ],
   "source": [
    "#plot number of steps to arrive at the solution\n",
    "plot_rewards(np.array(episode_rewards))"
   ]
  },
  {
   "cell_type": "code",
   "execution_count": 17,
   "id": "major-median",
   "metadata": {},
   "outputs": [
    {
     "data": {
      "image/png": "[encoded data removed]",
      "text/plain": [
       "<Figure size 432x288 with 1 Axes>"
      ]
     },
     "metadata": {
      "needs_background": "light"
     },
     "output_type": "display_data"
    }
   ],
   "source": [
    "# same as the previous cell but normalize the steps with the original distance of each random episode\n",
    "plot_rewards(np.array(episode_rewards)/np.array(manhattans))"
   ]
  },
  {
   "cell_type": "code",
   "execution_count": 12,
   "id": "crucial-machinery",
   "metadata": {},
   "outputs": [
    {
     "name": "stdout",
     "output_type": "stream",
     "text": [
      "1000\n"
     ]
    }
   ],
   "source": [
    "# make a gif\n",
    "images=[]\n",
    "obs=0\n",
    "for i in range(1000):\n",
    "    action = master.agent_step(obs, reward, False)\n",
    "    obs, reward, done, _ = env.step(action, False)\n",
    "    img = env.render()\n",
    "    images.append(img)\n",
    "    if done or obs==1000:\n",
    "        break\n",
    "\n",
    "print(obs)\n",
    "\n",
    "imageio.mimsave('test_HRL.gif', images[:], fps=10)"
   ]
  },
  {
   "cell_type": "code",
   "execution_count": null,
   "id": "spanish-hopkins",
   "metadata": {},
   "outputs": [],
   "source": []
  }
 ],
 "metadata": {
  "kernelspec": {
   "display_name": "Python [conda env:.conda-pytorch] *",
   "language": "python",
   "name": "conda-env-.conda-pytorch-py"
  },
  "language_info": {
   "codemirror_mode": {
    "name": "ipython",
    "version": 3
   },
   "file_extension": ".py",
   "mimetype": "text/x-python",
   "name": "python",
   "nbconvert_exporter": "python",
   "pygments_lexer": "ipython3",
   "version": "3.8.8"
  }
 },
 "nbformat": 4,
 "nbformat_minor": 5
}
