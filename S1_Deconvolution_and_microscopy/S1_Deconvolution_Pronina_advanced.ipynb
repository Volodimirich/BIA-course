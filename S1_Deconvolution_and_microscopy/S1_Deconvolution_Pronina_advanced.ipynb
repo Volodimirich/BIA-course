{
 "cells": [
  {
   "cell_type": "markdown",
   "metadata": {},
   "source": [
    "# Wiener Filter + UNet\n",
    "\n",
    "https://github.com/vpronina/DeepWienerRestoration"
   ]
  },
  {
   "cell_type": "code",
   "execution_count": null,
   "metadata": {},
   "outputs": [],
   "source": [
    "# Import some libraries\n",
    "\n",
    "import numpy as np\n",
    "from skimage import color, data, restoration\n",
    "import matplotlib.pyplot as plt\n",
    "import torch\n",
    "import utils\n",
    "import torch.nn as nn\n",
    "from networks import UNet\n",
    "import math\n",
    "import os\n",
    "from skimage import io\n",
    "import skimage\n",
    "import warnings\n",
    "warnings.filterwarnings('ignore')"
   ]
  },
  {
   "cell_type": "code",
   "execution_count": null,
   "metadata": {},
   "outputs": [],
   "source": [
    "def show_images(im1, im1_title, im2, im2_title, im3, im3_title, font):\n",
    "    fig, (image1, image2, image3) = plt.subplots(1, 3, figsize=(15, 50))\n",
    "    image1.imshow(im1, cmap='gray')\n",
    "    image1.set_title(im1_title, fontsize=font)\n",
    "    image1.set_axis_off()\n",
    "    image2.imshow(im2, cmap='gray')\n",
    "    image2.set_title(im2_title, fontsize=font)\n",
    "    image2.set_axis_off()\n",
    "    image3.imshow(im3, cmap='gray')\n",
    "    image3.set_title(im3_title, fontsize=font)\n",
    "    image3.set_axis_off()\n",
    "    fig.subplots_adjust(wspace=0.02, hspace=0.2,\n",
    "                                top=0.9, bottom=0.05, left=0, right=1)\n",
    "    fig.show()"
   ]
  },
  {
   "cell_type": "markdown",
   "metadata": {},
   "source": [
    "# Load the data"
   ]
  },
  {
   "cell_type": "code",
   "execution_count": null,
   "metadata": {},
   "outputs": [],
   "source": [
    "#Load the target image\n",
    "image = io.imread('./image.tif')\n",
    "\n",
    "#Load the blurred and distorted images\n",
    "blurred = io.imread('./blurred.tif')\n",
    "distorted = io.imread('./distorted.tif')\n",
    "\n",
    "#Load the kernel\n",
    "psf = io.imread('./PSF.tif')"
   ]
  },
  {
   "cell_type": "code",
   "execution_count": null,
   "metadata": {},
   "outputs": [],
   "source": [
    "show_images(image, 'Original image', blurred, 'Blurred image',\\\n",
    "           distorted, 'Blurred and noisy image', font=18)"
   ]
  },
  {
   "cell_type": "markdown",
   "metadata": {},
   "source": [
    "We know, that the solution is described as follows:\n",
    "\n",
    "$\\hat{\\mathbf{x}} = \\arg\\min_\\mathbf{x}\\underbrace{\\frac{1}{2}\\|\\mathbf{y}-\\mathbf{K} \\mathbf{x}\\|_{2}^{2}+\\lambda r(\\mathbf{x})}_{\\mathbf{J}(\\mathbf{x})}$,\n",
    "where $\\mathbf{J}$ is the objective function.\n",
    "\n",
    "According to the gradient descent iterative scheme,\n",
    "\n",
    "$\\hat{\\mathbf{x}}_{k+1}=\\hat{\\mathbf{x}}_{k}-\\beta \\nabla \\mathbf{J}(\\mathbf{x})$.\n",
    "\n",
    "Solution is described with the iterative gradient descent equation:\n",
    "\n",
    "$\\hat{\\mathbf{x}}_{k+1} = \\hat{\\mathbf{x}}_{k} - \\beta\\left[\\mathbf{K}^\\top(\\mathbf{K}\\hat{\\mathbf{x}}_{k} - \\mathbf{y}) + e^\\alpha f^{CNN}(\\hat{\\mathbf{x}}_{k})\\right]$, and here $\\lambda = e^\\alpha$ and $r(\\mathbf{x}) = f^{CNN}(\\hat{\\mathbf{x}})$."
   ]
  },
  {
   "cell_type": "code",
   "execution_count": null,
   "metadata": {},
   "outputs": [],
   "source": [
    "# Anscombe transform to transform Poissonian data into Gaussian\n",
    "#https://en.wikipedia.org/wiki/Anscombe_transform\n",
    "\n",
    "def anscombe(x):\n",
    "    '''\n",
    "    Compute the anscombe variance stabilizing transform.\n",
    "      the input   x   is noisy Poisson-distributed data\n",
    "      the output  fx  has variance approximately equal to 1.\n",
    "    Reference: Anscombe, F. J. (1948), \"The transformation of Poisson,\n",
    "    binomial and negative-binomial data\", Biometrika 35 (3-4): 246-254\n",
    "    '''\n",
    "    return 2.0*torch.sqrt(x + 3.0/8.0)\n",
    "\n",
    "# Exact unbiased Anscombe transform to transform Gaussian data back into Poissonian\n",
    "def exact_unbiased(z):\n",
    "    return (1.0 / 4.0 * z.pow(2) +\n",
    "            (1.0/4.0) * math.sqrt(3.0/2.0) * z.pow(-1) -\n",
    "            (11.0/8.0) * z.pow(-2) +\n",
    "            (5.0/8.0) * math.sqrt(3.0/2.0) * z.pow(-3) - (1.0 / 8.0))\n",
    "\n",
    "class WienerUNet(torch.nn.Module):\n",
    "\n",
    "    def __init__(self):\n",
    "        '''\n",
    "        Deconvolution function for a batch of images. Although the regularization\n",
    "        term does not have a shape of Tikhonov regularizer, with a slight abuse of notations\n",
    "        the function is called WienerUNet.\n",
    "\n",
    "        The function is built upon the iterative gradient descent scheme:\n",
    "\n",
    "        x_k+1 = x_k - lamb[K^T(Kx_k - y) + exp(alpha)*reg(x_k)]\n",
    "\n",
    "        Initial parameters are:\n",
    "        regularizer: a neural network to parametrize the prior on each iteration x_k.\n",
    "        alpha: power of the trade-off coefficient.\n",
    "        lamb: step of the gradient descent algorithm.\n",
    "        '''\n",
    "        super(WienerUNet, self).__init__()\n",
    "        self.regularizer = UNet(mode='instance')\n",
    "        self.alpha = nn.Parameter(torch.FloatTensor([0.0]))\n",
    "        self.lamb = nn.Parameter(torch.FloatTensor([0.3]))\n",
    "\n",
    "    def forward(self, x, y, ker):\n",
    "        '''\n",
    "        Function that performs one iteration of the gradient descent scheme of the deconvolution algorithm.\n",
    "\n",
    "        :param x: (torch.(cuda.)Tensor) Image, restored with the previous iteration of the gradient descent scheme, B x C x H x W\n",
    "        :param y: (torch.(cuda.)Tensor) Input blurred and noisy image, B x C x H x W\n",
    "        :param ker: (torch.(cuda.)Tensor) Blurring kernel, B x C x H_k x W_k\n",
    "        :return: (torch.(cuda.)Tensor) Restored image, B x C x H x W\n",
    "        '''\n",
    "        \n",
    "        #Calculate Kx_k\n",
    "        x_filtered = utils.imfilter2D_SpatialDomain(x, ker, padType='symmetric', mode=\"conv\")\n",
    "        Kx_y = x_filtered - y\n",
    "\n",
    "        #Calculate K^T(Kx_k - y)\n",
    "        y_filtered = utils.imfilter_transpose2D_SpatialDomain(Kx_y, ker,\n",
    "                                                              padType='symmetric', mode=\"conv\")\n",
    "        \n",
    "        #Calculate exp(alpha)*reg(x_k)\n",
    "        regul = torch.exp(self.alpha) * self.regularizer(x)\n",
    "\n",
    "        brackets = y_filtered + regul\n",
    "        out = x - self.lamb * brackets\n",
    "\n",
    "        return out\n",
    "    \n",
    "class WienerFilter_UNet(nn.Module):\n",
    "    '''\n",
    "    Module that uses UNet to predict individual gradient of a regularizer for each input image and then\n",
    "    applies gradient descent scheme with predicted gradient of a regularizers per-image.\n",
    "    '''\n",
    "    def __init__(self):\n",
    "\n",
    "        super(WienerFilter_UNet, self).__init__()\n",
    "        self.function = WienerUNet()\n",
    "    \n",
    "    #Perform gradient descent iterations\n",
    "    def forward(self, y, ker, n_iter):\n",
    "        output = y.clone()\n",
    "\n",
    "        for i in range(n_iter):\n",
    "            output = self.function(output, y, ker)\n",
    "\n",
    "        return output"
   ]
  },
  {
   "cell_type": "code",
   "execution_count": null,
   "metadata": {},
   "outputs": [],
   "source": [
    "#Let's transform our numpy data into pytorch data\n",
    "x = torch.Tensor(distorted[None, None])\n",
    "ker = torch.Tensor(psf[None, None])\n",
    "\n",
    "#Define the model\n",
    "model = WienerFilter_UNet()\n",
    "\n",
    "#Load the pretrained weights\n",
    "state_dict = torch.load(os.path.join('./', 'WF_UNet_poisson'))\n",
    "state_dict = state_dict['model_state_dict'] #TODO remove\n",
    "from collections import OrderedDict\n",
    "new_state_dict = OrderedDict()\n",
    "for k, v in state_dict.items():\n",
    "    name = k[7:]  # remove `module.`\n",
    "    new_state_dict[name] = v\n",
    "# load params\n",
    "model.load_state_dict(new_state_dict)\n",
    "model.eval()"
   ]
  },
  {
   "cell_type": "code",
   "execution_count": null,
   "metadata": {},
   "outputs": [],
   "source": [
    "#Perform Anscombe transform\n",
    "x = anscombe(x)\n",
    "\n",
    "#Calculate output\n",
    "out = model(x, ker, 10)\n",
    "\n",
    "#Perform inverse Anscombe transform\n",
    "out = exact_unbiased(out)\n",
    "\n",
    "#Some post-processing of data\n",
    "out = out/image.max()\n",
    "image = image/image.max()"
   ]
  },
  {
   "cell_type": "code",
   "execution_count": null,
   "metadata": {},
   "outputs": [],
   "source": [
    "show_images(image, 'Original image', distorted, 'Blurred image',\\\n",
    "           out[0][0].detach().cpu().numpy().clip(0,1), 'Restored with WF-UNet', font=18)"
   ]
  }
 ],
 "metadata": {
  "kernelspec": {
   "display_name": "Python 3",
   "language": "python",
   "name": "python3"
  },
  "language_info": {
   "codemirror_mode": {
    "name": "ipython",
    "version": 3
   },
   "file_extension": ".py",
   "mimetype": "text/x-python",
   "name": "python",
   "nbconvert_exporter": "python",
   "pygments_lexer": "ipython3",
   "version": "3.7.6"
  }
 },
 "nbformat": 4,
 "nbformat_minor": 4
}
