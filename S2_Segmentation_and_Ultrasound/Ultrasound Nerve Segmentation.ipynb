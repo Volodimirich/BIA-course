{
 "cells": [
  {
   "cell_type": "markdown",
   "metadata": {},
   "source": [
    "# Download and review the data at the link below:\n",
    "https://www.kaggle.com/c/ultrasound-nerve-segmentation/data"
   ]
  },
  {
   "cell_type": "markdown",
   "metadata": {},
   "source": [
    "# Import of different libraries"
   ]
  },
  {
   "cell_type": "code",
   "execution_count": null,
   "metadata": {},
   "outputs": [],
   "source": [
    "# example of installing the additional required libraries\n",
    "\n",
    "# !pip install tifffile \n",
    "# !pip install imagecodecs "
   ]
  },
  {
   "cell_type": "code",
   "execution_count": null,
   "metadata": {},
   "outputs": [],
   "source": [
    "import os\n",
    "import re\n",
    "import numpy as np\n",
    "import pandas as pd\n",
    "import matplotlib.pyplot as plt\n",
    "\n",
    "import cv2\n",
    "from tqdm import tqdm\n",
    "from glob import glob\n",
    "from PIL import Image\n",
    "from skimage.transform import resize\n",
    "from sklearn.model_selection import train_test_split, KFold\n",
    "\n",
    "import shutil\n",
    "\n",
    "import torch\n",
    "from torch.utils.data import DataLoader,Dataset\n",
    "import torch.nn as nn\n",
    "import torch.nn.functional as F\n",
    "import torch.optim as optim\n",
    "import albumentations\n",
    "import torchvision \n",
    "from torchvision import transforms, models, utils\n",
    "\n",
    "from torch.autograd import Variable\n",
    "from torch.nn import Linear, ReLU, CrossEntropyLoss, Sequential, Conv2d, MaxPool2d, Module, Softmax, BatchNorm2d, Dropout\n",
    "from torch.optim import Adam, SGD\n",
    "\n",
    "import random\n",
    "from skimage import io,transform\n",
    "from PIL import Image\n",
    "\n",
    "from sklearn import model_selection\n",
    "\n",
    "import time\n",
    "from tqdm import tqdm\n",
    "\n",
    "import warnings \n",
    "\n",
    "warnings.filterwarnings(\"ignore\")"
   ]
  },
  {
   "cell_type": "code",
   "execution_count": null,
   "metadata": {},
   "outputs": [],
   "source": [
    "#set device config: using either GPU or CPU\n",
    "device = torch.device('cuda:0' if torch.cuda.is_available() else 'cpu')"
   ]
  },
  {
   "cell_type": "markdown",
   "metadata": {},
   "source": [
    "# Dataset preprocessing"
   ]
  },
  {
   "cell_type": "code",
   "execution_count": null,
   "metadata": {},
   "outputs": [],
   "source": [
    "# create a dataframe of references and paths\n",
    "\n",
    "ROOT = \"./ultrasound-nerve-segmentation/\"\n",
    "trainpath = \"./ultrasound-nerve-segmentation/train/\"\n",
    "testpath = \"./ultrasound-nerve-segmentation/test/\"\n",
    "\n",
    "masks = [os.path.join(trainpath,i) for i in os.listdir(trainpath) if \"mask\" in i]\n",
    "imgs = [i.replace(\"_mask\",\"\") for i in masks]\n",
    "\n",
    "df = pd.DataFrame({\"Image\":imgs,\"Mask\":masks})"
   ]
  },
  {
   "cell_type": "code",
   "execution_count": null,
   "metadata": {},
   "outputs": [],
   "source": [
    "#  ensure it works by showing the example 3 lines\n",
    "df.head(3)"
   ]
  },
  {
   "cell_type": "code",
   "execution_count": null,
   "metadata": {},
   "outputs": [],
   "source": [
    "# plot 3 by 3 images from the dataset with the masks overlay\n",
    "\n",
    "rows,cols=3,3\n",
    "fig=plt.figure(figsize=(16,10))\n",
    "for i in range(1,rows*cols+1):\n",
    "    ii = random.randint(0, len(df))\n",
    "    fig.add_subplot(rows,cols,i)\n",
    "    img_path=df['Image'][ii]\n",
    "    msk_path=df['Mask'][ii]\n",
    "    plt.imshow(np.array(Image.open(img_path)), cmap = 'gray')\n",
    "    plt.imshow(np.array(Image.open(msk_path)),alpha=0.4, cmap = 'gray')\n",
    "plt.show()"
   ]
  },
  {
   "cell_type": "code",
   "execution_count": null,
   "metadata": {},
   "outputs": [],
   "source": [
    "# make folds\n",
    "\n",
    "def makesplits(df,k):\n",
    "    df[\"kfold\"] = -1\n",
    "    df = df.sample(frac=1).reset_index(drop=True)\n",
    "    kf = model_selection.KFold(n_splits=k)\n",
    "\n",
    "    for f,(t_,v_) in enumerate(kf.split(df)):\n",
    "        df.loc[v_,\"kfold\"] = f\n",
    "    return df"
   ]
  },
  {
   "cell_type": "code",
   "execution_count": null,
   "metadata": {},
   "outputs": [],
   "source": [
    "# save the folds to the file for the further loading to reproduce the given split\n",
    "kfold_ = makesplits(df,5)\n",
    "kfold_.to_csv(\"Kfolds.csv\",index=None)"
   ]
  },
  {
   "cell_type": "code",
   "execution_count": null,
   "metadata": {},
   "outputs": [],
   "source": [
    "#  define some basic augmentations to the training data\n",
    "def trainaugs():\n",
    "    transform =  [\n",
    "                albumentations.HorizontalFlip(),\n",
    "                albumentations.VerticalFlip()\n",
    "            ]\n",
    "    return albumentations.Compose(transform) # useful lib\n",
    "\n",
    "def valaugs():\n",
    "    transform = [\n",
    "                albumentations.HorizontalFlip(),\n",
    "                albumentations.VerticalFlip()\n",
    "            ]\n",
    "    return albumentations.Compose(transform)"
   ]
  },
  {
   "cell_type": "code",
   "execution_count": null,
   "metadata": {},
   "outputs": [],
   "source": [
    "# dataloader, returns image and mask\n",
    "class NerveDataset(Dataset):\n",
    "    def __init__(self,imagespath,maskspath,augment=None):\n",
    "        self.imagespath = imagespath\n",
    "        self.maskspath = maskspath\n",
    "        self.augment = augment\n",
    "        \n",
    "    def __len__(self):\n",
    "        return len(self.imagespath)\n",
    "    \n",
    "    def __getitem__(self,idx):\n",
    "        image = self.imagespath[idx]\n",
    "        mask = self.maskspath[idx]\n",
    "        image = io.imread(image)\n",
    "        mask = io.imread(mask)\n",
    "        image = transform.resize(image=image,output_shape=(256,256,3)) # (256,256,3)\n",
    "        image = image/255.0\n",
    "        mask = transform.resize(mask,(256,256))  # (256,256,1)\n",
    "        mask = mask / 255.0\n",
    "        \n",
    "        if self.augment:\n",
    "            sample = self.augment(image=image, mask=mask)\n",
    "            image,mask = sample['image'],sample['mask']\n",
    "            \n",
    "        image = image.transpose((2, 0, 1)) # (3,256,256)\n",
    "        mask = np.expand_dims(mask,axis=-1).transpose((2,0,1)) # (1,256,256)\n",
    "            \n",
    "        image = torch.from_numpy(image)\n",
    "        mask = torch.from_numpy(mask)\n",
    "            \n",
    "        return image,mask"
   ]
  },
  {
   "cell_type": "markdown",
   "metadata": {},
   "source": [
    "# Create neural network "
   ]
  },
  {
   "cell_type": "code",
   "execution_count": null,
   "metadata": {},
   "outputs": [],
   "source": [
    "# here we define the convolution network, the classical U-Net implementation\n",
    "class ConvBlock(nn.Module):\n",
    "    def __init__(self,in_channels,out_channels,kernel_size=(3,3),padding=1):\n",
    "        super(ConvBlock,self).__init__()\n",
    "        self.conv = nn.Conv2d(in_channels,out_channels,kernel_size,padding=padding,bias=False)\n",
    "        self.batchnorm = nn.BatchNorm2d(out_channels,eps=1e-4)\n",
    "        self.relu = nn.ReLU(inplace=True)\n",
    "        \n",
    "    def forward(self,x):\n",
    "        x = self.conv(x)\n",
    "        x = self.batchnorm(x)\n",
    "        x = self.relu(x)\n",
    "        return x\n",
    "        \n",
    "#  Encoder        \n",
    "class StackEncoder(nn.Module):\n",
    "    def __init__(self,channel1,channel2,kernel_size=(3,3),padding=1):\n",
    "        super(StackEncoder,self).__init__()\n",
    "        self.maxpool = nn.MaxPool2d(kernel_size=2,stride=2)\n",
    "        self.block = nn.Sequential(\n",
    "            ConvBlock(channel1,channel2,kernel_size,padding),\n",
    "            ConvBlock(channel2,channel2,kernel_size,padding),     \n",
    "        )\n",
    "        \n",
    "    def forward(self,x):\n",
    "        big_out = self.block(x)\n",
    "        poolout = self.maxpool(big_out)\n",
    "        return big_out,poolout\n",
    "#  Decoder       \n",
    "class StackDecoder(nn.Module):\n",
    "    def __init__(self,big_channel,channel1,channel2,kernel_size=(3,3),padding=1):\n",
    "        super(StackDecoder,self).__init__()\n",
    "        self.block = nn.Sequential(\n",
    "            ConvBlock(channel1+big_channel,channel2,kernel_size,padding),\n",
    "            ConvBlock(channel2,channel2,kernel_size,padding),\n",
    "            ConvBlock(channel2,channel2,kernel_size,padding),\n",
    "        )\n",
    "        \n",
    "    def forward(self,x,down_tensor):\n",
    "            _, channels, height, width = down_tensor.size()  \n",
    "            x = F.upsample(x, size=(height, width), mode='bilinear')\n",
    "            x = torch.cat([x, down_tensor], 1)  #combining channels of  input from encoder and upsampling input\n",
    "            x = self.block(x)\n",
    "            return x\n",
    "        \n",
    "#  U-Net       \n",
    "class Unet256(nn.Module):\n",
    "    def __init__(self,input_shape):\n",
    "        super(Unet256,self).__init__()\n",
    "        \n",
    "        channel,height,width = input_shape\n",
    "        \n",
    "        self.down1 = StackEncoder(channel,12,kernel_size=(3,3))  #256\n",
    "        self.down2 = StackEncoder(12,24,kernel_size=(3,3))  # 128\n",
    "        self.down3 = StackEncoder(24,46,kernel_size=(3,3))  # 64\n",
    "        self.down4 = StackEncoder(46,64,kernel_size=(3,3))  # 32\n",
    "        self.down5 = StackEncoder(64,128,kernel_size=(3,3))  #16\n",
    "        \n",
    "        self.center = ConvBlock(128,128,kernel_size=(3,3),padding=1) #16\n",
    "        self.up5 = StackDecoder(128,128,64,kernel_size=(3,3))  #32\n",
    "        self.up4 = StackDecoder(64,64,46,kernel_size=(3,3)) #64\n",
    "        self.up3 = StackDecoder(46,46,24,kernel_size=(3,3))\n",
    "        self.up2 = StackDecoder(24,24,12,kernel_size=(3,3))\n",
    "        self.up1 = StackDecoder(12,12,12,kernel_size=(3,3))\n",
    "        self.conv = Conv2d(12,1,kernel_size=(1,1),bias=True)\n",
    "        \n",
    "    def forward(self,x):\n",
    "        down1,out = self.down1(x)  \n",
    "        down2,out = self.down2(out)  \n",
    "        down3,out = self.down3(out)\n",
    "        down4,out = self.down4(out)\n",
    "        down5,out = self.down5(out)\n",
    "        \n",
    "        \n",
    "        out = self.center(out)\n",
    "        \n",
    "        up5 = self.up5(out,down5)\n",
    "        up4 = self.up4(up5,down4)\n",
    "        up3 = self.up3(up4,down3)\n",
    "        up2 = self.up2(up3,down2)\n",
    "        up1 = self.up1(up2,down1)\n",
    "        \n",
    "        out = self.conv(up1)\n",
    "\n",
    "\n",
    "        return out"
   ]
  },
  {
   "cell_type": "markdown",
   "metadata": {},
   "source": [
    "# Metrics and Losses"
   ]
  },
  {
   "attachments": {
    "image.png": {
     "image/png": "[encoded data removed]"
    }
   },
   "cell_type": "markdown",
   "metadata": {},
   "source": [
    "![image.png](attachment:image.png)"
   ]
  },
  {
   "cell_type": "code",
   "execution_count": null,
   "metadata": {},
   "outputs": [],
   "source": [
    "# Here we define the loss and the metric for the segmentation task:\n",
    "#  Loss\n",
    "class DiceLoss(nn.Module):\n",
    "    def __init__(self, weight=None, size_average=True):\n",
    "        super(DiceLoss, self).__init__()\n",
    "\n",
    "    def forward(self, inputs, targets, smooth=1):\n",
    "        inputs = F.sigmoid(inputs)       \n",
    "        #flatten label and prediction tensors\n",
    "        inputs = inputs.view(-1)\n",
    "        targets = targets.view(-1)\n",
    "        \n",
    "        intersection = (inputs * targets).sum()                            \n",
    "        dice_loss = 1 - (2.*intersection + smooth)/(inputs.sum() + targets.sum() + smooth)\n",
    "        return dice_loss\n",
    "\n",
    "    \n",
    "#   Score  \n",
    "class DiceScore(nn.Module):\n",
    "    def __init__(self, weight=None, size_average=True):\n",
    "        super(DiceScore, self).__init__()\n",
    "\n",
    "    def forward(self, inputs, targets, smooth=1):\n",
    "        inputs = F.sigmoid(inputs)       \n",
    "        #flatten label and prediction tensors\n",
    "        inputs = inputs.view(-1)\n",
    "        targets = targets.view(-1)\n",
    "        intersection = (inputs * targets).sum()                            \n",
    "        dice_score = (2.*intersection + smooth)/(inputs.sum() + targets.sum() + smooth) \n",
    "        return dice_score"
   ]
  },
  {
   "cell_type": "markdown",
   "metadata": {},
   "source": [
    "# Defining the training process function  "
   ]
  },
  {
   "cell_type": "code",
   "execution_count": null,
   "metadata": {},
   "outputs": [],
   "source": [
    "# Let's now train our model\n",
    "def trainfold(fold):\n",
    "    train_loss = []\n",
    "    train_dice = []\n",
    "    val_loss = []\n",
    "    val_dice = []\n",
    "    epochs = 2\n",
    "    train_bs= 8\n",
    "    val_bs = 4\n",
    "    \n",
    "    FILE = f\"./savedmodels/model_Fold_{fold}.pth\"\n",
    "    \n",
    "    if not os.path.exists(\"./savedmodels\"):\n",
    "        os.mkdir(\"savedmodels\")\n",
    "        \n",
    "    print(f\"*\"*20,\"FOLD\",fold, \"*\"*20)\n",
    "    df = pd.read_csv(\"Kfolds.csv\")\n",
    "    df_train = df[df.kfold != fold].reset_index(drop=True)\n",
    "    df_val = df[df.kfold == fold].reset_index(drop=True)\n",
    "    \n",
    "    traindata = NerveDataset(imagespath = df_train['Image'].tolist(),\n",
    "                            maskspath = df_train['Mask'].tolist(),\n",
    "                        augment=trainaugs())\n",
    "\n",
    "    validationdata = NerveDataset(imagespath = df_val['Image'].tolist(),\n",
    "                                maskspath = df_val['Mask'].tolist(),augment=valaugs())\n",
    "\n",
    "    trainloader = DataLoader(traindata,batch_size = train_bs,shuffle=True)\n",
    "    valloader = DataLoader(validationdata,batch_size=val_bs,shuffle=False)\n",
    "    \n",
    "    model = Unet256((3,256,256)).to(device)\n",
    "    criterion = DiceLoss() # here we use the aforementioned Loss function\n",
    "    learning_rate = 1e-3\n",
    "    optimizer = torch.optim.Adam(model.parameters(), lr=learning_rate) # use a standard approach with the Adam optimizer with the given learning rate\n",
    "    \n",
    "    for epoch in range(epochs):\n",
    "        print('Epoch {}/{}'.format(epoch + 1, epochs))\n",
    "        start_time = time.time()\n",
    "        running_train_loss = []\n",
    "\n",
    "        tk_train = tqdm(trainloader,total = len(trainloader))\n",
    "        for image,mask in tk_train: \n",
    "                image = image.to(device,dtype=torch.float)\n",
    "                mask = mask.to(device,dtype=torch.float)\n",
    "\n",
    "                pred_mask = model.forward(image) # forward propogation\n",
    "                loss = criterion(pred_mask,mask)\n",
    "                optimizer.zero_grad() # setting gradient to zero\n",
    "                loss.backward()\n",
    "                optimizer.step() # the step of the optimizer\n",
    "                running_train_loss.append(loss.item())\n",
    "        else:           \n",
    "            running_val_loss = [] # validation loss\n",
    "            \n",
    "            with torch.no_grad():\n",
    "                tk_val = tqdm(valloader,total = len(valloader))\n",
    "                for image,mask in tk_val:\n",
    "                        image = image.to(device,dtype=torch.float)\n",
    "                        mask = mask.to(device,dtype=torch.float)                            \n",
    "                        pred_mask = model.forward(image)\n",
    "                        loss = criterion(pred_mask,mask)\n",
    "                        running_val_loss.append(loss.item())\n",
    "\n",
    "        epoch_train_loss = np.mean(running_train_loss) \n",
    "        print(f'Fold: {fold} <---> Epoch: {epoch + 1} <---> Train DiceLoss: {epoch_train_loss}')                       \n",
    "        train_loss.append(epoch_train_loss)\n",
    "        \n",
    "        epoch_val_loss = np.mean(running_val_loss)\n",
    "        print(f'Fold: {fold} <---> Epoch: {epoch + 1} <---> Validation DiceLoss: {epoch_val_loss}')                                \n",
    "        val_loss.append(epoch_val_loss)\n",
    "        \n",
    "\n",
    "        time_elapsed = time.time() - start_time\n",
    "        print('Fold {}: Time Taken: {:.0f}m {:.0f}s'.format(fold,time_elapsed // 60, time_elapsed % 60))\n",
    "        \n",
    "    torch.save(model.state_dict(), FILE)\n",
    "        \n",
    "    return train_loss, val_loss"
   ]
  },
  {
   "cell_type": "markdown",
   "metadata": {},
   "source": [
    "# Let's train:"
   ]
  },
  {
   "cell_type": "code",
   "execution_count": null,
   "metadata": {},
   "outputs": [],
   "source": [
    "train_loss, val_loss = trainfold(0)"
   ]
  },
  {
   "cell_type": "code",
   "execution_count": null,
   "metadata": {},
   "outputs": [],
   "source": []
  }
 ],
 "metadata": {
  "kernelspec": {
   "display_name": "Python 3",
   "language": "python",
   "name": "python3"
  },
  "language_info": {
   "codemirror_mode": {
    "name": "ipython",
    "version": 3
   },
   "file_extension": ".py",
   "mimetype": "text/x-python",
   "name": "python",
   "nbconvert_exporter": "python",
   "pygments_lexer": "ipython3",
   "version": "3.7.4"
  }
 },
 "nbformat": 4,
 "nbformat_minor": 4
}
