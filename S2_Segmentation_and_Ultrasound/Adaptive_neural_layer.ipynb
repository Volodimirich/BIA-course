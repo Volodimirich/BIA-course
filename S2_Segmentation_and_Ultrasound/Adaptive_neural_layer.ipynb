{
 "cells": [
  {
   "cell_type": "code",
   "execution_count": null,
   "metadata": {},
   "outputs": [],
   "source": [
    "import torch\n",
    "import numpy as np"
   ]
  },
  {
   "cell_type": "markdown",
   "metadata": {},
   "source": [
    "<img src=\"./algorithm.png\" alt=\"Drawing\" style=\"width: 400px;\"/>"
   ]
  },
  {
   "cell_type": "code",
   "execution_count": null,
   "metadata": {},
   "outputs": [],
   "source": [
    "class LinearFourier2d(torch.nn.Module):\n",
    "    def __init__(self, image_size, log=False):\n",
    "        super(LinearFourier2d, self).__init__()\n",
    "\n",
    "        self.log = log\n",
    "\n",
    "        c, h, w = image_size\n",
    "        self.register_parameter(name='fourier_filter', param=torch.nn.Parameter(torch.empty(c, h, w // 2 + 1)))\n",
    "        torch.nn.init.ones_(self.fourier_filter)\n",
    "\n",
    "    def forward(self, x):\n",
    "        w = torch.nn.ReLU()(self.fourier_filter.repeat(x.shape[0], 1, 1, 1).to(x.device))\n",
    "\n",
    "        rft_x = torch.rfft(x, signal_ndim=3, normalized=True, onesided=True)\n",
    "        init_spectrum = torch.sqrt(torch.pow(rft_x[..., 0], 2) + torch.pow(rft_x[..., 1], 2))\n",
    "\n",
    "        if self.log:\n",
    "            spectrum = torch.exp(w * torch.log(1 + init_spectrum)) - 1\n",
    "        else:\n",
    "            spectrum = w * init_spectrum\n",
    "\n",
    "        irf = torch.irfft(torch.stack([rft_x[..., 0] * spectrum / (init_spectrum + 1e-16),\n",
    "                                       rft_x[..., 1] * spectrum / (init_spectrum + 1e-16)], dim=-1),\n",
    "                          signal_ndim=3, normalized=True, onesided=True, signal_sizes=x.shape[1:])\n",
    "\n",
    "        return irf"
   ]
  },
  {
   "cell_type": "code",
   "execution_count": null,
   "metadata": {},
   "outputs": [],
   "source": [
    "class GeneralFourier2d(torch.nn.Module):\n",
    "    def __init__(self, image_size, log=False):\n",
    "        super(GeneralFourier2d, self).__init__()\n",
    "\n",
    "        self.log = log\n",
    "\n",
    "        c, h, w = image_size\n",
    "        self.register_parameter(name='W1', param=torch.nn.Parameter(torch.empty(c, h, w // 2 + 1)))\n",
    "\n",
    "        self.register_parameter(name='B1', param=torch.nn.Parameter(torch.empty(c, h, w // 2 + 1)))\n",
    "        self.register_parameter(name='W2', param=torch.nn.Parameter(torch.empty(c, h, w // 2 + 1)))\n",
    "        self.register_parameter(name='B2', param=torch.nn.Parameter(torch.empty(c, h, w // 2 + 1)))\n",
    "\n",
    "        torch.nn.init.ones_(self.W1)\n",
    "        torch.nn.init.zeros_(self.B1)\n",
    "        torch.nn.init.ones_(self.W2)\n",
    "        torch.nn.init.zeros_(self.B2)\n",
    "\n",
    "        self.activation = torch.nn.ReLU()\n",
    "\n",
    "    def forward(self, x):\n",
    "        w1 = torch.nn.ReLU()(self.W1.repeat(x.shape[0], 1, 1, 1).to(x.device))\n",
    "        w2 = torch.nn.ReLU()(self.W2.repeat(x.shape[0], 1, 1, 1).to(x.device))\n",
    "        b1 = torch.nn.ReLU()(self.B1.repeat(x.shape[0], 1, 1, 1).to(x.device))\n",
    "        b2 = torch.nn.ReLU()(self.B2.repeat(x.shape[0], 1, 1, 1).to(x.device))\n",
    "\n",
    "        rft_x = torch.rfft(x, signal_ndim=3, normalized=True, onesided=True)\n",
    "        init_spectrum = torch.sqrt(torch.pow(rft_x[..., 0], 2) + torch.pow(rft_x[..., 1], 2))\n",
    "\n",
    "        if self.log:\n",
    "            spectrum = w2 * self.activation(w1 * torch.log(1 + init_spectrum) + b1) + b2\n",
    "        else:\n",
    "            spectrum = w2 * self.activation(w1 * init_spectrum + b1) + b2\n",
    "\n",
    "        irf = torch.irfft(torch.stack([rft_x[..., 0] * spectrum / (init_spectrum + 1e-16),\n",
    "                                       rft_x[..., 1] * spectrum / (init_spectrum + 1e-16)], dim=-1),\n",
    "                          signal_ndim=3, normalized=True, onesided=True, signal_sizes=x.shape[1:])\n",
    "\n",
    "        return irf"
   ]
  }
 ],
 "metadata": {
  "kernelspec": {
   "display_name": "Python 3",
   "language": "python",
   "name": "python3"
  },
  "language_info": {
   "codemirror_mode": {
    "name": "ipython",
    "version": 3
   },
   "file_extension": ".py",
   "mimetype": "text/x-python",
   "name": "python",
   "nbconvert_exporter": "python",
   "pygments_lexer": "ipython3",
   "version": "3.7.4"
  }
 },
 "nbformat": 4,
 "nbformat_minor": 2
}
